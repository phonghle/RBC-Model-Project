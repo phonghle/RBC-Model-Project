{
 "cells": [
  {
   "cell_type": "markdown",
   "metadata": {},
   "source": [
    "# The Decentralized RBC Model with Labor with Durable and Nondurable Consumption Goods"
   ]
  },
  {
   "cell_type": "markdown",
   "metadata": {},
   "source": [
    "In this project, we will simulate the dynamic equilibrium of a decentralized RBC model.\n",
    "As usual, the model features an infnitely-lived household that chooses consumption, labor,\n",
    "and capital accumulation to maximize the present value of its lifetime utility. However, the\n",
    "household also chooses an amount of a durable consumption good to obtain. The durable\n",
    "consumption good provides utility and gradually depreciates over time so it provides value\n",
    "over time."
   ]
  },
  {
   "cell_type": "markdown",
   "metadata": {},
   "source": [
    "# The Model"
   ]
  },
  {
   "cell_type": "markdown",
   "metadata": {},
   "source": [
    "A representative household lives for an infinite number of periods. The expected present\n",
    "value of lifetime utility to the household from consuming nondurable goods C$_{0}$, C$_{1}$, C$_{2}$,...,\n",
    "consuming durable goods D$_{0}$, D$_{1}$, D$_{2}$,..., and working L$_{0}$, L$_{1}$, L$_{2}$,...is denoted by U$_{0}$."
   ]
  },
  {
   "cell_type": "markdown",
   "metadata": {},
   "source": [
    "\\begin{align} U_{0} = E_{0}\\sum\\limits_{t=0}^{\\infty} {\\beta^t}{[logC_t+\\eta{logD_t}+\\varphi\\log(1-L_t)]}\\end{align}"
   ]
  },
  {
   "cell_type": "markdown",
   "metadata": {},
   "source": [
    "where 0 < $\\beta$ < 1 is the household's subjective discount factor, $\\eta$ reflects the relative value\n",
    "that the household places on the utility \n",
    "ow from durable goods, and $\\varphi$ re\n",
    "ects the relative\n",
    "value that the household places on leisure in the utility function. ${E_0}$ denotes the expectation\n",
    "with respect to all information available as of date 0.\n",
    "\n",
    "The household enters period 0 with capital ${K_0}$ > 0. Production in period t is according\n",
    "to a standard production function that has decreasing returns in capital ${K_t}$:"
   ]
  },
  {
   "cell_type": "markdown",
   "metadata": {},
   "source": [
    "\\begin{align}F(A_t, K_t) = (A_t, K_t^{\\alpha}, L_t^{1-\\alpha})\\end{align}"
   ]
  },
  {
   "cell_type": "markdown",
   "metadata": {},
   "source": [
    "where TFP $A_t$ is stochastic:"
   ]
  },
  {
   "cell_type": "markdown",
   "metadata": {},
   "source": [
    "\\begin{align}\\log_{t+1} = \\rho_{A}\\log{A_{t}}+\\epsilon_{t+1}^{A}\\end{align}"
   ]
  },
  {
   "cell_type": "markdown",
   "metadata": {},
   "source": [
    "The household's resource constraint in each period t is:"
   ]
  },
  {
   "cell_type": "markdown",
   "metadata": {},
   "source": [
    "\\begin{align} C_t+K_{t+1}+D_{t+1}=A_tK_t^{\\alpha}L_t^{1-\\alpha}+(1-\\delta_k)K_t+(1-\\delta_d)D_t\\end{align}"
   ]
  },
  {
   "cell_type": "markdown",
   "metadata": {},
   "source": [
    "where $\\delta_k$ is the depreciation rate of capital and $\\delta_d$ is the depreciation rate of durable consumption goods."
   ]
  },
  {
   "cell_type": "markdown",
   "metadata": {},
   "source": [
    "In period 0, the household solves:"
   ]
  },
  {
   "cell_type": "markdown",
   "metadata": {},
   "source": [
    "\\begin{align} max_{C_0,L_0,K_1}=E_{0}\\sum\\limits_{t=0}^{\\infty} {\\beta^t}{[logC_t+\\eta{logD_t}+\\varphi\\log(1-L_t)]} \\end{align}\n",
    "\\begin{align} s.t.\\;\\; C_t+K_{t+1}+D_{t+1}=A_tK_t^{\\alpha}L_t^{1-\\alpha}+(1-\\delta_k)K_t+(1-\\delta_d)D_t\\end{align}"
   ]
  },
  {
   "cell_type": "markdown",
   "metadata": {},
   "source": [
    "which can be written as a choice of $L_0$, $K_1$, and $D_1$ only:"
   ]
  },
  {
   "cell_type": "markdown",
   "metadata": {},
   "source": [
    "\\begin{align} max_{L_0,K_1}=E_{0}\\sum\\limits_{t=0}^{\\infty} {\\beta^t}{[log(A_tK_t^{\\alpha}L_t^{1-\\alpha}+(1-\\delta_k)K_t+(1-\\delta_d)D_t - K_{t+1}-D_{t+1})+\\eta{logD_t}+\\varphi\\log(1-L_t)]} \\end{align}"
   ]
  },
  {
   "cell_type": "markdown",
   "metadata": {},
   "source": [
    "Recall the Cobb-Douglas production function:"
   ]
  },
  {
   "cell_type": "markdown",
   "metadata": {},
   "source": [
    "\\begin{align} Y_t = A_t K_t^{\\alpha}L_t^{1-\\alpha} \\end{align}"
   ]
  },
  {
   "cell_type": "markdown",
   "metadata": {},
   "source": [
    "where $Y$ denotes the production of final goods and services, $K$ is the stock of physical capital, $L$ is the labor force (either number of workers or number of worker hours), and $A$ is total factor productivity or $TFP$ which represents all other factors that might affect production that are not captured by $K, L$."
   ]
  },
  {
   "cell_type": "markdown",
   "metadata": {},
   "source": [
    "Goods Market Clearing Condition:\n",
    "\\begin{align} Y_t = C_t+K_{t+1}-(1-\\delta_k)K_t+D_{t+1}-(1-\\delta_d)D_t \\end{align}\n",
    "\n",
    "The condition represents the aggregate resource constraint for the economy."
   ]
  },
  {
   "cell_type": "markdown",
   "metadata": {},
   "source": [
    "We mentioned FTP quite a bit in the project so let's elaborate more on it. In the next few pages or so, we will use linear regression to estimate the relationship between TFP and GDP per worker using the data from Fred.\n",
    "The data is called `cross_country_production.csv` is available here: https://github.com/letsgoexploring/econ126/raw/master/Data/Csv/cross_country_production.csv . The file contains production data in 2014 for 144 countries. In addition to the name and country code, the file contains production data for 144 countries in 2014:\n",
    "\n",
    "\n",
    "| Name               | Description               | Units                       |\n",
    "|--------------------|---------------------------|-----------------------------|\n",
    "| `gdp`              | real GDP                  | Millions of 2001 US dollars |\n",
    "| `labor`            | Average number of workers | Millions                    |\n",
    "| `physical_capital` | Physical capital stock    | Millions of 2001 US dollars |\n",
    "| `human_capital`    | Human capital per worker  | Index (unitless)            |\n",
    "\n",
    "We can use the data to compute TFP for each country using the equation:\n",
    "\\begin{align}\n",
    "A & = \\frac{Y}{K^{\\alpha}(hL)^{1-\\alpha}}\n",
    "\\end{align}\n",
    "where we added $h$ for human-capital per worker."
   ]
  },
  {
   "cell_type": "code",
   "execution_count": 12,
   "metadata": {},
   "outputs": [],
   "source": [
    "import numpy as np\n",
    "import pandas as pd\n",
    "import matplotlib.pyplot as plt\n",
    "plt.style.use('classic')\n",
    "%matplotlib inline"
   ]
  },
  {
   "cell_type": "code",
   "execution_count": 18,
   "metadata": {},
   "outputs": [
    {
     "name": "stdout",
     "output_type": "stream",
     "text": [
      "                           country            gdp      labor  human_capital  \\\n",
      "country_code                                                                  \n",
      "AGO                         Angola  205371.265625   8.343885       1.445598   \n",
      "ALB                        Albania   31419.962891   0.883679       2.930766   \n",
      "ARE           United Arab Emirates  618051.187500   5.938807       2.730336   \n",
      "ARG                      Argentina  859908.500000  18.098450       2.945663   \n",
      "ARM                        Armenia   27410.783203   1.201936       3.122178   \n",
      "\n",
      "              physical_capital  \n",
      "country_code                    \n",
      "AGO               7.960541e+05  \n",
      "ALB               1.127928e+05  \n",
      "ARE               2.429822e+06  \n",
      "ARG               2.148251e+06  \n",
      "ARM               4.400342e+04  \n"
     ]
    }
   ],
   "source": [
    "# Import data into a DataFrame called 'df'. Use the leftmost column as the index\n",
    "df = pd.read_csv('https://github.com/letsgoexploring/econ126/raw/master/Data/Csv/cross_country_production.csv', index_col = 0)\n",
    "\n",
    "# Print the first five rows of the imported data\n",
    "print(df.head())"
   ]
  },
  {
   "cell_type": "code",
   "execution_count": 22,
   "metadata": {},
   "outputs": [],
   "source": [
    "# Add a column to df called 'gdp_pw' equal to GDP divided by labor divided by 1000 so units are in thousands of $\n",
    "df['gdp_pw'] = df['gdp']/df['labor']/1000\n",
    "\n",
    "# Add a column to df called 'physical_capital_pw' equal to physical capital divided by labor divided by 1000 so units are in thousands of $\n",
    "df['physical_capital_pw'] = df['physical_capital']/df['labor']/1000\n",
    "\n",
    "# Set alpha to 1/3\n",
    "alpha =1/3\n",
    "\n",
    "# Add a column to df called 'tfp' equal to TFP computed using the production function\n",
    "df['tfp'] = df['gdp']/df['physical_capital']**alpha/(df['labor']*df['human_capital'])**(1-alpha)\n",
    "\n",
    "# Sort the rows of df so that the GDP per worker column is in ascending order\n",
    "df = df.sort_values('gdp_pw')"
   ]
  },
  {
   "cell_type": "code",
   "execution_count": 25,
   "metadata": {},
   "outputs": [
    {
     "data": {
      "image/png": "[encoded data removed]",
      "text/plain": [
       "<Figure size 432x288 with 1 Axes>"
      ]
     },
     "metadata": {
      "needs_background": "light"
     },
     "output_type": "display_data"
    }
   ],
   "source": [
    "# Construct a scatter plot of TFP against real GDP per worker with:\n",
    "#    1. All countries as blue circles, size 75, opacity (alpha) 0.25, label: 'All countries'\n",
    "#    2. USA as red square, size 75, opacity (alpha) 0.5, label='USA'\n",
    "#    3. Add a legend in the upper left corner with scatterpoints=1\n",
    "#    4. x-axis limits: [-10,250]\n",
    "#    4. y-axis limits: [-10,1600]\n",
    "#    6. x-axis label: 'Real GDP capital per worker\\n(Thousands of 2001 $)'\n",
    "#    7. y-axis label: 'TFP (Unitless))'\n",
    "#    8. Add a grid if you'd like\n",
    "\n",
    "fig = plt.figure()\n",
    "ax = fig.add_subplot(1,1,1)\n",
    "ax.scatter(df['gdp_pw'],df['tfp'],s=75,alpha=0.25,label='Rest of the countries')\n",
    "ax.scatter(df['gdp_pw'].loc['USA'],df['tfp'].loc['USA'],marker='s',c='r',s=75,alpha=0.5,label='USA')\n",
    "ax.legend(scatterpoints=1,loc='upper left')\n",
    "ax.set_xlim([-10,250])\n",
    "ax.set_ylim([-10,1600])\n",
    "ax.set_xlabel('Real GDP per worker\\n(Thousands of 2001 $)')\n",
    "ax.set_ylabel('TFP (Unitless)')\n",
    "ax.grid()"
   ]
  },
  {
   "cell_type": "markdown",
   "metadata": {},
   "source": [
    "## Estimate Relationship Between TFP and GDP per Worker\n",
    "\n",
    "The Statsmodels module is an excellent tool for a broad range of statistical applications. Learn more about Statsmodels here: https://www.statsmodels.org/stable/index.html. We can use the module to estimate the relationship between TFP and GDP per worker in our data.\n",
    "\n",
    "Since the scatter plot reveals some curvature in the relationship between TFP and GDP per worker, let's specifiy the linear regression model with the variables in logs:\n",
    "\n",
    "\\begin{align}\n",
    "\\log \\text{TFP}_i & = \\beta_0 + \\beta_1 \\log \\text{GDP}_i + \\epsilon_i\n",
    "\\end{align}\n",
    "\n",
    "Once we've obtained the estimated coefficients $\\hat{\\beta}_0$ and $\\hat{\\beta}_1$, we can compute predicted values for TFP $\\widehat{TFP}_i$ using by setting $\\epsilon_i=0$ and solving the regression equation for TFP:\n",
    "\n",
    "\\begin{align}\n",
    "\\widehat{TFP}_i & = \\exp\\left(\\hat{\\beta}_0 + \\hat{\\beta}_1 \\log \\text{GDP}_i\\right)\n",
    "\\end{align}"
   ]
  },
  {
   "cell_type": "code",
   "execution_count": 27,
   "metadata": {},
   "outputs": [],
   "source": [
    "# Import the Statsmodels module\n",
    "import statsmodels.api as sm"
   ]
  },
  {
   "cell_type": "code",
   "execution_count": 30,
   "metadata": {},
   "outputs": [
    {
     "name": "stdout",
     "output_type": "stream",
     "text": [
      "              const    gdp_pw\n",
      "country_code                 \n",
      "CAF             1.0  0.315622\n",
      "BDI             1.0  0.611815\n",
      "NER             1.0  0.893346\n",
      "MWI             1.0  0.913269\n",
      "LBR             1.0  0.960224\n"
     ]
    }
   ],
   "source": [
    "# Create a variable called 'y' that will be to the dependent variable in the regression\n",
    "y = np.log(df['tfp'])\n",
    "\n",
    "# Create a variable called 'x' that will be to the independent variable in the regression\n",
    "x = np.log(df['gdp_pw'])\n",
    "\n",
    "# Use the function sm.add_constant() to add a constant to x\n",
    "x = sm.add_constant(x)\n",
    "\n",
    "# Print the first five rows of x\n",
    "print(x.head())"
   ]
  },
  {
   "cell_type": "code",
   "execution_count": 29,
   "metadata": {},
   "outputs": [
    {
     "name": "stdout",
     "output_type": "stream",
     "text": [
      "                 Results: Ordinary least squares\n",
      "=================================================================\n",
      "Model:              OLS              Adj. R-squared:     0.905   \n",
      "Dependent Variable: tfp              AIC:                -78.3129\n",
      "Date:               2019-04-16 00:18 BIC:                -72.3732\n",
      "No. Observations:   144              Log-Likelihood:     41.156  \n",
      "Df Model:           1                F-statistic:        1359.   \n",
      "Df Residuals:       142              Prob (F-statistic): 1.36e-74\n",
      "R-squared:          0.905            Scale:              0.033524\n",
      "-------------------------------------------------------------------\n",
      "             Coef.    Std.Err.      t      P>|t|    [0.025   0.975]\n",
      "-------------------------------------------------------------------\n",
      "const        4.1585     0.0463   89.8804   0.0000   4.0670   4.2499\n",
      "gdp_pw       0.4936     0.0134   36.8661   0.0000   0.4671   0.5200\n",
      "-----------------------------------------------------------------\n",
      "Omnibus:              6.608        Durbin-Watson:           1.890\n",
      "Prob(Omnibus):        0.037        Jarque-Bera (JB):        6.185\n",
      "Skew:                 0.460        Prob(JB):                0.045\n",
      "Kurtosis:             3.430        Condition No.:           11   \n",
      "=================================================================\n",
      "\n"
     ]
    }
   ],
   "source": [
    "# Create an OLS model using Statsmodels\n",
    "model = sm.OLS(y,x)\n",
    "\n",
    "# Fit the OLS model to data\n",
    "results = model.fit()\n",
    "\n",
    "# Print the summary2() method of results to print summary of regression results:\n",
    "print(results.summary2())"
   ]
  },
  {
   "cell_type": "markdown",
   "metadata": {},
   "source": [
    "Estimated coefficients are stored in the `params` attribute of `results`. Residuals of the regression are stored in the attribute `resid`. And predicted values of the dependent variable are stored in `fittedvalues`."
   ]
  },
  {
   "cell_type": "code",
   "execution_count": 31,
   "metadata": {},
   "outputs": [
    {
     "name": "stdout",
     "output_type": "stream",
     "text": [
      "const     4.158469\n",
      "gdp_pw    0.493573\n",
      "dtype: float64\n"
     ]
    }
   ],
   "source": [
    "# Print estimated coefficients of linear regression\n",
    "print(results.params)"
   ]
  },
  {
   "cell_type": "markdown",
   "metadata": {},
   "source": [
    "The cofficient on log GDP per worker is approximately 0.5 so we can conclude that a one percent increase in GDP per worker increases TFP by one half of a percent."
   ]
  },
  {
   "cell_type": "code",
   "execution_count": 32,
   "metadata": {},
   "outputs": [
    {
     "name": "stdout",
     "output_type": "stream",
     "text": [
      "0.9054032510077362\n"
     ]
    }
   ],
   "source": [
    "# Print R-squared of the regression\n",
    "print(results.rsquared)"
   ]
  },
  {
   "cell_type": "markdown",
   "metadata": {},
   "source": [
    "The R-squared of the regression is 0.905 and we can conclude that GDP per worker explains over 90 percent of the variation in TFP."
   ]
  },
  {
   "cell_type": "code",
   "execution_count": 33,
   "metadata": {},
   "outputs": [
    {
     "name": "stdout",
     "output_type": "stream",
     "text": [
      "country_code\n",
      "CAF   -0.368663\n",
      "BDI    0.253711\n",
      "NER   -0.036212\n",
      "MWI   -0.222537\n",
      "LBR   -0.093016\n",
      "dtype: float64\n"
     ]
    }
   ],
   "source": [
    "# Print the first five rows of residuals.\n",
    "print(results.resid.head())"
   ]
  },
  {
   "cell_type": "code",
   "execution_count": 34,
   "metadata": {},
   "outputs": [
    {
     "name": "stdout",
     "output_type": "stream",
     "text": [
      "2.917419392487217e-15\n"
     ]
    }
   ],
   "source": [
    "# Print the mean of the residuals of the regression.\n",
    "print(results.resid.mean())"
   ]
  },
  {
   "cell_type": "code",
   "execution_count": 35,
   "metadata": {},
   "outputs": [
    {
     "name": "stdout",
     "output_type": "stream",
     "text": [
      "country_code\n",
      "CAF    4.314252\n",
      "BDI    4.460445\n",
      "NER    4.599401\n",
      "MWI    4.609234\n",
      "LBR    4.632410\n",
      "dtype: float64\n"
     ]
    }
   ],
   "source": [
    "# Create a variable called 'yhat' equal to the fitted values of y:\n",
    "yhat = results.fittedvalues\n",
    "\n",
    "# Print the first five rows of yhat\n",
    "print(yhat.head())"
   ]
  },
  {
   "cell_type": "markdown",
   "metadata": {},
   "source": [
    "Recall that we can use estimated parameters can be used to compute out-of-sample predictions:\n",
    "\n",
    "\\begin{align}\n",
    "\\widehat{TFP}_i & = \\exp\\left(\\hat{\\beta}_0 + \\hat{\\beta}_1 \\log \\text{GDP}_i\\right)\n",
    "\\end{align}"
   ]
  },
  {
   "cell_type": "code",
   "execution_count": 36,
   "metadata": {},
   "outputs": [],
   "source": [
    "# Create variable called 'gdp_values' that is an array from 0.1 to 300\n",
    "gdp_values = np.arange(0.1,300,0.001)\n",
    "\n",
    "# Create variable called 'beta0' equal to the constant of the regression\n",
    "beta0 = results.params['const']\n",
    "\n",
    "# Create variable called 'beta1' equal to the coefficient on log GDP per worker from the regression\n",
    "beta1 = results.params['gdp_pw']\n",
    "\n",
    "# Create a variable called 'ahat' that is equal to the predicted values of TFP corresponding to gdp_values\n",
    "ahat = np.exp(beta0 + beta1*np.log(gdp_values))"
   ]
  },
  {
   "cell_type": "code",
   "execution_count": 37,
   "metadata": {},
   "outputs": [
    {
     "data": {
      "image/png": "[encoded data removed]",
      "text/plain": [
       "<Figure size 432x288 with 1 Axes>"
      ]
     },
     "metadata": {
      "needs_background": "light"
     },
     "output_type": "display_data"
    }
   ],
   "source": [
    "# Recreate the scatter plot of TFP against real GDP per worker with:\n",
    "#    1. All features and settings from the previous plot\n",
    "#    2. A plot of ahat against gdp_values; linewidth: 3, opacity: 0.5, label: 'OLS', color: magenta (c='m')\n",
    "\n",
    "fig = plt.figure()\n",
    "ax = fig.add_subplot(1,1,1)\n",
    "ax.scatter(df['gdp_pw'],df['tfp'],s=75,alpha=0.25,label='All countries')\n",
    "ax.scatter(df['gdp_pw'].loc['USA'],df['tfp'].loc['USA'],marker='s',c='r',s=75,alpha=0.5,label='USA')\n",
    "ax.plot(gdp_values,ahat,c='m',lw=3,alpha=0.5,label='OLS')\n",
    "ax.legend(scatterpoints=1,loc='upper left')\n",
    "ax.set_xlim([-10,250])\n",
    "ax.set_ylim([-10,1600])\n",
    "ax.set_xlabel('Real GDP per worker\\n(Thousands of 2001 $)')\n",
    "ax.set_ylabel('TFP (Unitless)')\n",
    "ax.grid()"
   ]
  },
  {
   "cell_type": "markdown",
   "metadata": {},
   "source": [
    "We should have a better understanding about FTP and its relationship with other factors by now. Let's come back to our RBC model."
   ]
  }
 ],
 "metadata": {
  "kernelspec": {
   "display_name": "Python 3",
   "language": "python",
   "name": "python3"
  },
  "language_info": {
   "codemirror_mode": {
    "name": "ipython",
    "version": 3
   },
   "file_extension": ".py",
   "mimetype": "text/x-python",
   "name": "python",
   "nbconvert_exporter": "python",
   "pygments_lexer": "ipython3",
   "version": "3.7.2"
  }
 },
 "nbformat": 4,
 "nbformat_minor": 2
}
