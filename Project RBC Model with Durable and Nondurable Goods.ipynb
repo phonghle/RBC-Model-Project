{
 "cells": [
  {
   "cell_type": "markdown",
   "metadata": {},
   "source": [
    "# The Decentralized RBC Model with Labor with Durable and Nondurable Consumption Goods"
   ]
  },
  {
   "cell_type": "markdown",
   "metadata": {},
   "source": [
    "In this project, we will simulate the dynamic equilibrium of a decentralized (household makes their own decision) RBC model.\n",
    "As usual, the model features an infinitely-lived household that chooses consumption, labor,\n",
    "and capital accumulation to maximize the present value of its lifetime utility. However, the\n",
    "household also chooses an amount of a durable consumption good to obtain. The durable\n",
    "consumption good provides utility and gradually depreciates over time so it provides value\n",
    "over time."
   ]
  },
  {
   "cell_type": "markdown",
   "metadata": {},
   "source": [
    "# The Model"
   ]
  },
  {
   "cell_type": "markdown",
   "metadata": {},
   "source": [
    "A representative household lives for an infinite number of periods. The expected present\n",
    "value of lifetime utility to the household from consuming nondurable goods C$_{0}$, C$_{1}$, C$_{2}$,...,\n",
    "consuming durable goods D$_{0}$, D$_{1}$, D$_{2}$,..., and working L$_{0}$, L$_{1}$, L$_{2}$,...is denoted by U$_{0}$."
   ]
  },
  {
   "cell_type": "markdown",
   "metadata": {},
   "source": [
    "\\begin{align} U_{0} = E_{0}\\sum\\limits_{t=0}^{\\infty} {\\beta^t}{[logC_t+\\eta{logD_t}+\\varphi\\log(1-L_t)]}\\end{align}"
   ]
  },
  {
   "cell_type": "markdown",
   "metadata": {},
   "source": [
    "where 0 < $\\beta$ < 1 is the household's subjective discount factor, $\\eta$ reflects the relative value\n",
    "that the household places on the utility \n",
    "ow from durable goods, and $\\varphi$ re\n",
    "ects the relative\n",
    "value that the household places on leisure in the utility function. ${E_0}$ denotes the expectation\n",
    "with respect to all information available as of date 0.\n",
    "\n",
    "The household enters period 0 with capital ${K_0}$ > 0. Production in period t is according\n",
    "to a standard production function that has decreasing returns in capital ${K_t}$:"
   ]
  },
  {
   "cell_type": "markdown",
   "metadata": {},
   "source": [
    "\\begin{align}F(A_t, K_t) = (A_t, K_t^{\\alpha}, L_t^{1-\\alpha})\\end{align}"
   ]
  },
  {
   "cell_type": "markdown",
   "metadata": {},
   "source": [
    "where TFP $A_t$ is stochastic:"
   ]
  },
  {
   "cell_type": "markdown",
   "metadata": {},
   "source": [
    "\\begin{align}\\log_{t+1} = \\rho_{A}\\log{A_{t}}+\\epsilon_{t+1}^{A}\\end{align}"
   ]
  },
  {
   "cell_type": "markdown",
   "metadata": {},
   "source": [
    "The household's resource constraint in each period t is:"
   ]
  },
  {
   "cell_type": "markdown",
   "metadata": {},
   "source": [
    "\\begin{align} C_t+K_{t+1}+D_{t+1}=A_tK_t^{\\alpha}L_t^{1-\\alpha}+(1-\\delta_k)K_t+(1-\\delta_d)D_t\\end{align}"
   ]
  },
  {
   "cell_type": "markdown",
   "metadata": {},
   "source": [
    "where $\\delta_k$ is the depreciation rate of capital and $\\delta_d$ is the depreciation rate of durable consumption goods."
   ]
  },
  {
   "cell_type": "markdown",
   "metadata": {},
   "source": [
    "In period 0, the household solves:"
   ]
  },
  {
   "cell_type": "markdown",
   "metadata": {},
   "source": [
    "\\begin{align} max_{C_0,L_0,K_1}=E_{0}\\sum\\limits_{t=0}^{\\infty} {\\beta^t}{[logC_t+\\eta{logD_t}+\\varphi\\log(1-L_t)]} \\end{align}\n",
    "\\begin{align} s.t.\\;\\; C_t+K_{t+1}+D_{t+1}=A_tK_t^{\\alpha}L_t^{1-\\alpha}+(1-\\delta_k)K_t+(1-\\delta_d)D_t\\end{align}"
   ]
  },
  {
   "cell_type": "markdown",
   "metadata": {},
   "source": [
    "which can be written as a choice of $L_0$, $K_1$, and $D_1$ only:"
   ]
  },
  {
   "cell_type": "markdown",
   "metadata": {},
   "source": [
    "\\begin{align} max_{L_0,K_1}=E_{0}\\sum\\limits_{t=0}^{\\infty} {\\beta^t}{[log(A_tK_t^{\\alpha}L_t^{1-\\alpha}+(1-\\delta_k)K_t+(1-\\delta_d)D_t - K_{t+1}-D_{t+1})+\\eta{logD_t}+\\varphi\\log(1-L_t)]} \\end{align}"
   ]
  },
  {
   "cell_type": "markdown",
   "metadata": {},
   "source": [
    "Recall the Cobb-Douglas production function:"
   ]
  },
  {
   "cell_type": "markdown",
   "metadata": {},
   "source": [
    "\\begin{align} Y_t = A_t K_t^{\\alpha}L_t^{1-\\alpha} \\end{align}"
   ]
  },
  {
   "cell_type": "markdown",
   "metadata": {},
   "source": [
    "where $Y$ denotes the production of final goods and services, $K$ is the stock of physical capital, $L$ is the labor force (either number of workers or number of worker hours), and $A$ is total factor productivity or $TFP$ which represents all other factors that might affect production that are not captured by $K, L$."
   ]
  },
  {
   "cell_type": "markdown",
   "metadata": {},
   "source": [
    "Goods Market Clearing Condition:\n",
    "\\begin{align} Y_t = C_t+K_{t+1}-(1-\\delta_k)K_t+D_{t+1}-(1-\\delta_d)D_t \\end{align}\n",
    "\n",
    "The condition represents the aggregate resource constraint for the economy."
   ]
  },
  {
   "cell_type": "markdown",
   "metadata": {},
   "source": [
    "We mentioned FTP quite a bit in the project so let's elaborate more on it. In the next few pages or so, we will use linear regression to estimate the relationship between TFP and GDP per worker using the data from Fred.\n",
    "The data is called `cross_country_production.csv` is available here: https://github.com/letsgoexploring/econ126/raw/master/Data/Csv/cross_country_production.csv . The file contains production data in 2014 for 144 countries. In addition to the name and country code, the file contains production data for 144 countries in 2014:\n",
    "\n",
    "\n",
    "| Name               | Description               | Units                       |\n",
    "|--------------------|---------------------------|-----------------------------|\n",
    "| `gdp`              | real GDP                  | Millions of 2001 US dollars |\n",
    "| `labor`            | Average number of workers | Millions                    |\n",
    "| `physical_capital` | Physical capital stock    | Millions of 2001 US dollars |\n",
    "| `human_capital`    | Human capital per worker  | Index (unitless)            |\n",
    "\n",
    "We can use the data to compute TFP for each country using the equation:\n",
    "\\begin{align}\n",
    "A & = \\frac{Y}{K^{\\alpha}(hL)^{1-\\alpha}}\n",
    "\\end{align}\n",
    "where we added $h$ for human-capital per worker."
   ]
  },
  {
   "cell_type": "code",
   "execution_count": 7,
   "metadata": {},
   "outputs": [],
   "source": [
    "import numpy as np\n",
    "import pandas as pd\n",
    "import matplotlib.pyplot as plt\n",
    "import linearsolve as ls\n",
    "plt.style.use('classic')\n",
    "%matplotlib inline"
   ]
  },
  {
   "cell_type": "code",
   "execution_count": 8,
   "metadata": {},
   "outputs": [
    {
     "data": {
      "text/plain": [
       "(144, 5)"
      ]
     },
     "execution_count": 8,
     "metadata": {},
     "output_type": "execute_result"
    }
   ],
   "source": [
    "# Import data into a DataFrame called 'df'. Use the leftmost column as the index\n",
    "df = pd.read_csv('https://github.com/letsgoexploring/econ126/raw/master/Data/Csv/cross_country_production.csv', index_col = 0)\n",
    "\n",
    "# Print the first five rows of the imported data\n",
    "df.head()\n",
    "df.shape"
   ]
  },
  {
   "cell_type": "code",
   "execution_count": 9,
   "metadata": {},
   "outputs": [],
   "source": [
    "# Add a column to df called 'gdp_pw' equal to GDP divided by labor divided by 1000 so units are in thousands of $\n",
    "df['gdp_pw'] = df['gdp']/df['labor']/1000\n",
    "\n",
    "# Add a column to df called 'physical_capital_pw' equal to physical capital divided by labor divided by 1000 so units are in thousands of $\n",
    "df['physical_capital_pw'] = df['physical_capital']/df['labor']/1000\n",
    "\n",
    "# Set alpha to 1/3\n",
    "alpha =1/3\n",
    "\n",
    "# Add a column to df called 'tfp' equal to TFP computed using the production function\n",
    "df['tfp'] = df['gdp']/df['physical_capital']**alpha/(df['labor']*df['human_capital'])**(1-alpha)\n",
    "\n",
    "# Sort the rows of df so that the GDP per worker column is in ascending order\n",
    "df = df.sort_values('gdp_pw')"
   ]
  },
  {
   "cell_type": "code",
   "execution_count": 10,
   "metadata": {},
   "outputs": [
    {
     "data": {
      "image/png": "[encoded data removed]",
      "text/plain": [
       "<Figure size 432x288 with 1 Axes>"
      ]
     },
     "metadata": {
      "needs_background": "light"
     },
     "output_type": "display_data"
    }
   ],
   "source": [
    "# Construct a scatter plot of TFP against real GDP per worker with:\n",
    "#    1. All countries as blue circles, size 75, opacity (alpha) 0.25, label: 'All countries'\n",
    "#    2. USA as red square, size 75, opacity (alpha) 0.5, label='USA'\n",
    "#    3. Add a legend in the upper left corner with scatterpoints=1\n",
    "#    4. x-axis limits: [-10,250]\n",
    "#    4. y-axis limits: [-10,1600]\n",
    "#    6. x-axis label: 'Real GDP capital per worker\\n(Thousands of 2001 $)'\n",
    "#    7. y-axis label: 'TFP (Unitless))'\n",
    "#    8. Add a grid if you'd like\n",
    "\n",
    "fig = plt.figure()\n",
    "ax = fig.add_subplot(1,1,1)\n",
    "ax.scatter(df['gdp_pw'],df['tfp'],s=75,alpha=0.25,label='Rest of the countries')\n",
    "ax.scatter(df['gdp_pw'].loc['USA'],df['tfp'].loc['USA'],marker='s',c='r',s=75,alpha=0.5,label='USA')\n",
    "ax.legend(scatterpoints=1,loc='upper left')\n",
    "ax.set_xlim([-10,250])\n",
    "ax.set_ylim([-10,1600])\n",
    "ax.set_xlabel('Real GDP per worker\\n(Thousands of 2001 $)')\n",
    "ax.set_ylabel('TFP (Unitless)')\n",
    "ax.grid()"
   ]
  },
  {
   "cell_type": "markdown",
   "metadata": {},
   "source": [
    "## Estimate Relationship Between TFP and GDP per Worker\n",
    "\n",
    "The Statsmodels module is an excellent tool for a broad range of statistical applications. Learn more about Statsmodels here: https://www.statsmodels.org/stable/index.html. We can use the module to estimate the relationship between TFP and GDP per worker in our data.\n",
    "\n",
    "Since the scatter plot reveals some curvature in the relationship between TFP and GDP per worker, let's specifiy the linear regression model with the variables in logs:\n",
    "\n",
    "\\begin{align}\n",
    "\\log \\text{TFP}_i & = \\beta_0 + \\beta_1 \\log \\text{GDP}_i + \\epsilon_i\n",
    "\\end{align}\n",
    "\n",
    "Once we've obtained the estimated coefficients $\\hat{\\beta}_0$ and $\\hat{\\beta}_1$, we can compute predicted values for TFP $\\widehat{TFP}_i$ using by setting $\\epsilon_i=0$ and solving the regression equation for TFP:\n",
    "\n",
    "\\begin{align}\n",
    "\\widehat{TFP}_i & = \\exp\\left(\\hat{\\beta}_0 + \\hat{\\beta}_1 \\log \\text{GDP}_i\\right)\n",
    "\\end{align}"
   ]
  },
  {
   "cell_type": "code",
   "execution_count": 11,
   "metadata": {},
   "outputs": [],
   "source": [
    "# Import the Statsmodels module\n",
    "import statsmodels.api as sm"
   ]
  },
  {
   "cell_type": "code",
   "execution_count": 15,
   "metadata": {},
   "outputs": [
    {
     "name": "stdout",
     "output_type": "stream",
     "text": [
      "              const    gdp_pw\n",
      "country_code                 \n",
      "CAF             1.0  0.315622\n",
      "BDI             1.0  0.611815\n",
      "NER             1.0  0.893346\n",
      "MWI             1.0  0.913269\n",
      "LBR             1.0  0.960224\n"
     ]
    }
   ],
   "source": [
    "# Create a variable called 'y' that will be to the dependent variable in the regression. This is Y\n",
    "y = np.log(df['tfp'])\n",
    "\n",
    "# Create a variable called 'x' that will be to the independent variable in the regression. \n",
    "# This is X or the explanatory variable\n",
    "x = np.log(df['gdp_pw'])\n",
    "\n",
    "# Use the function sm.add_constant() to add a constant to x\n",
    "x = sm.add_constant(x)\n",
    "\n",
    "# Print the first five rows of x\n",
    "print(x.head())"
   ]
  },
  {
   "cell_type": "code",
   "execution_count": 7,
   "metadata": {},
   "outputs": [
    {
     "name": "stdout",
     "output_type": "stream",
     "text": [
      "                 Results: Ordinary least squares\n",
      "=================================================================\n",
      "Model:              OLS              Adj. R-squared:     0.905   \n",
      "Dependent Variable: tfp              AIC:                -78.3129\n",
      "Date:               2019-05-22 00:40 BIC:                -72.3732\n",
      "No. Observations:   144              Log-Likelihood:     41.156  \n",
      "Df Model:           1                F-statistic:        1359.   \n",
      "Df Residuals:       142              Prob (F-statistic): 1.36e-74\n",
      "R-squared:          0.905            Scale:              0.033524\n",
      "-------------------------------------------------------------------\n",
      "             Coef.    Std.Err.      t      P>|t|    [0.025   0.975]\n",
      "-------------------------------------------------------------------\n",
      "const        4.1585     0.0463   89.8804   0.0000   4.0670   4.2499\n",
      "gdp_pw       0.4936     0.0134   36.8661   0.0000   0.4671   0.5200\n",
      "-----------------------------------------------------------------\n",
      "Omnibus:              6.608        Durbin-Watson:           1.890\n",
      "Prob(Omnibus):        0.037        Jarque-Bera (JB):        6.185\n",
      "Skew:                 0.460        Prob(JB):                0.045\n",
      "Kurtosis:             3.430        Condition No.:           11   \n",
      "=================================================================\n",
      "\n"
     ]
    }
   ],
   "source": [
    "# Create an OLS model using Statsmodels\n",
    "model = sm.OLS(y,x)\n",
    "\n",
    "# Fit the OLS model to data\n",
    "results = model.fit()\n",
    "\n",
    "# Print the summary2() method of results to print summary of regression results:\n",
    "print(results.summary2())"
   ]
  },
  {
   "cell_type": "markdown",
   "metadata": {},
   "source": [
    "Estimated coefficients are stored in the `params` attribute of `results`. Residuals of the regression are stored in the attribute `resid`. And predicted values of the dependent variable are stored in `fittedvalues`."
   ]
  },
  {
   "cell_type": "code",
   "execution_count": 8,
   "metadata": {},
   "outputs": [
    {
     "name": "stdout",
     "output_type": "stream",
     "text": [
      "const     4.158469\n",
      "gdp_pw    0.493573\n",
      "dtype: float64\n"
     ]
    }
   ],
   "source": [
    "# Print estimated coefficients of linear regression\n",
    "print(results.params)"
   ]
  },
  {
   "cell_type": "markdown",
   "metadata": {},
   "source": [
    "The cofficient on log GDP per worker is approximately 0.5 so we can conclude that a one percent increase in GDP per worker increases TFP by one half of a percent."
   ]
  },
  {
   "cell_type": "code",
   "execution_count": 9,
   "metadata": {},
   "outputs": [
    {
     "name": "stdout",
     "output_type": "stream",
     "text": [
      "0.9054032510077362\n"
     ]
    }
   ],
   "source": [
    "# Print R-squared of the regression\n",
    "print(results.rsquared)"
   ]
  },
  {
   "cell_type": "markdown",
   "metadata": {},
   "source": [
    "The R-squared of the regression is 0.905 and we can conclude that GDP per worker explains over 90 percent of the variation in TFP."
   ]
  },
  {
   "cell_type": "code",
   "execution_count": 10,
   "metadata": {},
   "outputs": [
    {
     "name": "stdout",
     "output_type": "stream",
     "text": [
      "country_code\n",
      "CAF   -0.368663\n",
      "BDI    0.253711\n",
      "NER   -0.036212\n",
      "MWI   -0.222537\n",
      "LBR   -0.093016\n",
      "dtype: float64\n"
     ]
    }
   ],
   "source": [
    "# Print the first five rows of residuals.\n",
    "print(results.resid.head())"
   ]
  },
  {
   "cell_type": "code",
   "execution_count": 11,
   "metadata": {},
   "outputs": [
    {
     "name": "stdout",
     "output_type": "stream",
     "text": [
      "2.917419392487217e-15\n"
     ]
    }
   ],
   "source": [
    "# Print the mean of the residuals of the regression.\n",
    "print(results.resid.mean())"
   ]
  },
  {
   "cell_type": "code",
   "execution_count": 12,
   "metadata": {},
   "outputs": [
    {
     "name": "stdout",
     "output_type": "stream",
     "text": [
      "country_code\n",
      "CAF    4.314252\n",
      "BDI    4.460445\n",
      "NER    4.599401\n",
      "MWI    4.609234\n",
      "LBR    4.632410\n",
      "dtype: float64\n"
     ]
    }
   ],
   "source": [
    "# Create a variable called 'yhat' equal to the fitted values of y:\n",
    "yhat = results.fittedvalues\n",
    "\n",
    "# Print the first five rows of yhat\n",
    "print(yhat.head())"
   ]
  },
  {
   "cell_type": "markdown",
   "metadata": {},
   "source": [
    "Recall that we can use estimated parameters can be used to compute out-of-sample predictions:\n",
    "\n",
    "\\begin{align}\n",
    "\\widehat{TFP}_i & = \\exp\\left(\\hat{\\beta}_0 + \\hat{\\beta}_1 \\log \\text{GDP}_i\\right)\n",
    "\\end{align}"
   ]
  },
  {
   "cell_type": "code",
   "execution_count": 13,
   "metadata": {},
   "outputs": [],
   "source": [
    "# Create variable called 'gdp_values' that is an array from 0.1 to 300\n",
    "gdp_values = np.arange(0.1,300,0.001)\n",
    "\n",
    "# Create variable called 'beta0' equal to the constant of the regression\n",
    "beta0 = results.params['const']\n",
    "\n",
    "# Create variable called 'beta1' equal to the coefficient on log GDP per worker from the regression\n",
    "beta1 = results.params['gdp_pw']\n",
    "\n",
    "# Create a variable called 'ahat' that is equal to the predicted values of TFP corresponding to gdp_values\n",
    "ahat = np.exp(beta0 + beta1*np.log(gdp_values))"
   ]
  },
  {
   "cell_type": "code",
   "execution_count": 14,
   "metadata": {},
   "outputs": [
    {
     "data": {
      "image/png": "[encoded data removed]",
      "text/plain": [
       "<Figure size 432x288 with 1 Axes>"
      ]
     },
     "metadata": {
      "needs_background": "light"
     },
     "output_type": "display_data"
    }
   ],
   "source": [
    "# Recreate the scatter plot of TFP against real GDP per worker with:\n",
    "#    1. All features and settings from the previous plot\n",
    "#    2. A plot of ahat against gdp_values; linewidth: 3, opacity: 0.5, label: 'OLS', color: magenta (c='m')\n",
    "\n",
    "fig = plt.figure()\n",
    "ax = fig.add_subplot(1,1,1)\n",
    "ax.scatter(df['gdp_pw'],df['tfp'],s=75,alpha=0.25,label='All countries')\n",
    "ax.scatter(df['gdp_pw'].loc['USA'],df['tfp'].loc['USA'],marker='s',c='r',s=75,alpha=0.5,label='USA')\n",
    "ax.plot(gdp_values,ahat,c='m',lw=3,alpha=0.5,label='OLS')\n",
    "ax.legend(scatterpoints=1,loc='upper left')\n",
    "ax.set_xlim([-10,250])\n",
    "ax.set_ylim([-10,1600])\n",
    "ax.set_xlabel('Real GDP per worker\\n(Thousands of 2001 $)')\n",
    "ax.set_ylabel('TFP (Unitless)')\n",
    "ax.grid()"
   ]
  },
  {
   "cell_type": "markdown",
   "metadata": {},
   "source": [
    "We should have a better understanding about FTP and its relationship with other factors by now. Let's come back to our RBC model."
   ]
  },
  {
   "cell_type": "code",
   "execution_count": 17,
   "metadata": {},
   "outputs": [],
   "source": [
    "# Importing Nondurable Goods Data from the Federal Reserce at St. Louis, setting dates (first column) as \n",
    "# Index, seperating the columns, skiping other information on the webstie, and formating the dates. \n",
    "\n",
    "# Nondurable goods\n",
    "df = pd.read_csv('https://fred.stlouisfed.org/data/PCND.txt',index_col=0,sep='\\s+',skiprows=14,parse_dates = True)\n",
    "\n",
    "# Durable goods\n",
    "df2 = pd.read_csv('https://fred.stlouisfed.org/data/PCDG.txt',index_col=0,sep='\\s+',skiprows=14,parse_dates = True)\n",
    "\n",
    "# Replacing 'VALUE' columns name from respective data \n",
    "df.rename(columns={'VALUE': 'PCND'}, inplace=True)\n",
    "df2.rename(columns={'VALUE': 'PCDG'}, inplace=True)"
   ]
  },
  {
   "cell_type": "code",
   "execution_count": 18,
   "metadata": {},
   "outputs": [
    {
     "name": "stderr",
     "output_type": "stream",
     "text": [
      "/anaconda3/lib/python3.7/site-packages/pandas/plotting/_converter.py:129: FutureWarning: Using an implicitly registered datetime converter for a matplotlib plotting method. The converter was registered by pandas on import. Future versions of pandas will require you to explicitly register matplotlib converters.\n",
      "\n",
      "To register the converters:\n",
      "\t>>> from pandas.plotting import register_matplotlib_converters\n",
      "\t>>> register_matplotlib_converters()\n",
      "  warnings.warn(msg, FutureWarning)\n"
     ]
    },
    {
     "data": {
      "text/plain": [
       "Text(0.5, 1.0, 'Ratio of Nondurable goods over Durable goods')"
      ]
     },
     "execution_count": 18,
     "metadata": {},
     "output_type": "execute_result"
    },
    {
     "data": {
      "image/png": "[encoded data removed]",
      "text/plain": [
       "<Figure size 1152x432 with 1 Axes>"
      ]
     },
     "metadata": {
      "needs_background": "light"
     },
     "output_type": "display_data"
    }
   ],
   "source": [
    "# Adding the durable goods data into the dataframe for non-durable goods\n",
    "\n",
    "df['PCDG']=df2['PCDG']\n",
    "df['DGND']=df['PCDG']+df['PCND']\n",
    "\n",
    "# Adding a column for the ratio of nondurable goods to durable goods \n",
    "\n",
    "df['ratio']=df['PCND']/df['PCDG'] \n",
    "\n",
    "# Setting the graph figure size\n",
    "plt.figure(figsize=(16,6))\n",
    "\n",
    "# Ploting the ratio of nondurable goods to durable goods over time\n",
    "\n",
    "plt.plot(df['ratio'], lw=3, label=\"Ratio\")\n",
    "\n",
    "# Inserting the ledgend for the graph \n",
    "plt.legend()\n",
    "plt.title(\"Ratio of Nondurable goods over Durable goods\")"
   ]
  },
  {
   "cell_type": "code",
   "execution_count": 19,
   "metadata": {},
   "outputs": [
    {
     "name": "stdout",
     "output_type": "stream",
     "text": [
      "Average Ratio= 2.2866\n"
     ]
    }
   ],
   "source": [
    "# Finding the avrage of ratio for nondurable goods to durable goods \n",
    "\n",
    "print(\"Average Ratio=\",np.round(np.average(df['ratio']),decimals=4))"
   ]
  },
  {
   "cell_type": "code",
   "execution_count": 20,
   "metadata": {},
   "outputs": [],
   "source": [
    "#Setting a variable for the avrage ratio\n",
    "\n",
    "c_d=(np.average(df['ratio'])) "
   ]
  },
  {
   "cell_type": "code",
   "execution_count": 21,
   "metadata": {},
   "outputs": [
    {
     "name": "stdout",
     "output_type": "stream",
     "text": [
      "beta             0.995000\n",
      "phi              2.034915\n",
      "alpha            0.350000\n",
      "delta_k          0.025000\n",
      "delta_d          0.250000\n",
      "rho              0.750000\n",
      "sigma_squared    0.006000\n",
      "n                0.111532\n",
      "dtype: float64\n"
     ]
    }
   ],
   "source": [
    "# Storing the given parameter values into the a panda series \n",
    "parameters = pd.Series()\n",
    "parameters['beta'] = 0.995\n",
    "parameters['phi'] = 2.034915\n",
    "parameters['alpha'] = 0.35\n",
    "parameters['delta_k'] = 0.025\n",
    "parameters['delta_d'] = 0.25\n",
    "parameters['rho'] = 0.75\n",
    "parameters['sigma_squared']= 0.006\n",
    "\n",
    "# Finding eta(n) value with respect to the First order condition for the durable goods\n",
    "parameters['n'] = (parameters.beta**-1-1+parameters.delta_d)/c_d\n",
    "print(parameters)"
   ]
  },
  {
   "cell_type": "code",
   "execution_count": 22,
   "metadata": {},
   "outputs": [],
   "source": [
    "# Define a function to find the equlibrium conditions for the model using the FOCs\n",
    "# This function be will initialized later using linearsolve module\n",
    "def equilibrium_equations(variables_forward,variables_current,parameters):\n",
    "    # Parameters\n",
    "    p = parameters\n",
    "    # Current variables.\n",
    "    cur = variables_current\n",
    "    # Forward variables. \n",
    "    fwd = variables_forward\n",
    "\n",
    "    # Euler equation\n",
    "    ee = p.beta*(p.alpha*fwd.a*fwd.k**(p.alpha-1)*fwd.l**(1-p.alpha)+1-p.delta_k)/(fwd.c) - 1/cur.c\n",
    "    \n",
    "    # Labor-labor choice\n",
    "    ll = (1-p.alpha)*(cur.a)*(cur.k**p.alpha)*cur.l**(-p.alpha)/cur.c - p.phi/(1-cur.l)\n",
    "    \n",
    "    # Production function\n",
    "    pf= cur.a*cur.k**p.alpha*cur.l**(1-p.alpha) - cur.y\n",
    "    \n",
    "    # Market clearing\n",
    "    mc= cur.c+fwd.k-(1-p.delta_k)*cur.k+fwd.d-(1-p.delta_d)*cur.d -cur.y\n",
    "    \n",
    "    # Exogenous tfp\n",
    "    tp = p.rho*np.log(cur.a) - np.log(fwd.a)\n",
    "    \n",
    "\n",
    "    #durable goods\n",
    "    dg= p.beta*((1-p.delta_d)/fwd.c+p.n/fwd.d)-1/cur.c\n",
    "    #stacking the equations \n",
    "    return np.array([\n",
    "        ee,\n",
    "        ll,\n",
    "        pf,\n",
    "        mc,\n",
    "        tp,\n",
    "        dg,\n",
    "        ])"
   ]
  },
  {
   "cell_type": "code",
   "execution_count": 24,
   "metadata": {},
   "outputs": [
    {
     "name": "stdout",
     "output_type": "stream",
     "text": [
      "Help on class model in module linearsolve:\n",
      "\n",
      "class model(builtins.object)\n",
      " |  model(equations=None, nstates=None, varNames=None, shockNames=None, parameters=None, parameterNames=None)\n",
      " |  \n",
      " |  This program defines a class -- linearsolve.model -- with associated methods for solving and \n",
      " |  simulating dynamic stochastic general equilibrium (DSGE) models.\n",
      " |  \n",
      " |  Methods defined here:\n",
      " |  \n",
      " |  __init__(self, equations=None, nstates=None, varNames=None, shockNames=None, parameters=None, parameterNames=None)\n",
      " |      Initializing an instance linearsolve.model requires values for the following variables:\n",
      " |      \n",
      " |      Args:\n",
      " |          equations:       (fun) A function that represents the equilibirum conditions for a DSGE model.\n",
      " |                              The function should accept three arguments:\n",
      " |                                  * vars_fwd:     endogenous variables dated t+1\n",
      " |                                  * vars_cur:     endogenous variables dated t\n",
      " |                                  * parameters:   the parameters of the model\n",
      " |                              The function should return an n-dimensional array. Each element of the returned\n",
      " |                              array is a list with the first element equaling the left-hand side of a single\n",
      " |                              equilibrium condition and the second elemtn equals the right-hand side.\n",
      " |          nstates:         (int) The number of state variables in the model.\n",
      " |          varNames:        (list) A list of strings with the names of the endogenous variables. The state\n",
      " |                              variables must be ordered first.\n",
      " |          shockNames:      (list) A list of strings with the names of the exogenous shocks to each state\n",
      " |                              variable. The order of names must agree with varNames.\n",
      " |          parameters:      (list or Pandas Series) Either a list of parameter values OR a Pandas Series object\n",
      " |                              with parameter name strings as the index.\n",
      " |          parameterNames:  (list) Optional. If parameters is given as a list,then this list of strings will\n",
      " |                              be used to save the parameters with names as a Pandas Series object.\n",
      " |      \n",
      " |      Returns:\n",
      " |          None\n",
      " |      \n",
      " |      Attributes:\n",
      " |          nvars:              (int) The number of variables in the model.\n",
      " |          nstates:            (int) The number of state variables in the model.\n",
      " |          ncostates:          (int) The number of costate or control variables in the model.\n",
      " |          parameters:         (Pandas Seris) A Pandas Series with parameter name strings as the \n",
      " |                                  index. If parameterNames wasn't supplied,then parameters are labeled \n",
      " |                                  'parameter 1',parameter2',etc.\n",
      " |          names:              (dict) A dictionary with keys 'variables','shocks',and 'param' that\n",
      " |                                  stores the names of the model's variables and parameters.\n",
      " |          equilibrium_fun:    (fun) Function that returns the equilibrium comditions of the model\n",
      " |          ss:                 (None)\n",
      " |  \n",
      " |  approximate_and_solve(self, loglinear=True)\n",
      " |      Method approximates and solves a dynamic stochastic general equilibrium (DSGE) model by \n",
      " |      constructing the log-linear approximation (if the model isn't log-linear) and solving the model\n",
      " |      using Klein's (2000) method. Arguments:\n",
      " |      \n",
      " |      Args:\n",
      " |          loglinear:  (bool) whether to compute log-linear or linear approximation. Default: True\n",
      " |      \n",
      " |      Returns:\n",
      " |          None\n",
      " |      \n",
      " |      Attributes:\n",
      " |          a:          (Numpy ndarray)\n",
      " |          b:          (Numpy ndarray)\n",
      " |          f:          (Numpy ndarray) Solution matrix coeffients on s(t)\n",
      " |          p:          (Numpy ndarray) Solution matrix coeffients on s(t)\n",
      " |          stab:       (int) Indicates solution stability and uniqueness\n",
      " |                          stab == 1: too many stable eigenvalues\n",
      " |                          stab == -1: too few stable eigenvalues\n",
      " |                          stab == 0: just enoughstable eigenvalues\n",
      " |          eig:        The generalized eigenvalues from the Schur decomposition\n",
      " |          loglinear:  (bool) Whether the model is loglinear. Sets to loglinear.\n",
      " |  \n",
      " |  approximated(self, round=True, precision=4)\n",
      " |      Returns a string containing the log-linear approximation to the equilibrium conditions\n",
      " |      \n",
      " |      Args:\n",
      " |          round:       (bool) Whether to round the coefficents in the linear equations. Default: True\n",
      " |          precisions:  (int) Number of decimals to round the coefficients. Default: 4\n",
      " |      \n",
      " |      Returns:\n",
      " |          String with the log-linear approximation to the equilibrium conditions.\n",
      " |      \n",
      " |      Attributes:\n",
      " |          None\n",
      " |  \n",
      " |  check_ss(self)\n",
      " |      This method allows the user to directly set the steady state of the model.\n",
      " |      \n",
      " |      Args:\n",
      " |          None\n",
      " |      \n",
      " |      Returns:\n",
      " |          None\n",
      " |      \n",
      " |      Attributes:\n",
      " |          None\n",
      " |  \n",
      " |  compute_ss(self, guess=None, method='fsolve', options={})\n",
      " |      This method attempts to solve for the steady state of the model.\n",
      " |      \n",
      " |      Args:\n",
      " |          guess:      (Pandas Series,Numpy array,or list) An initial guess for the \n",
      " |                          steady state solution. The result is highly sensisitve to the intial \n",
      " |                          guess chosen,so be careful. If the guess is a Numpy ndarray or a list\n",
      " |                          then the elements must be ordered to conform with self.names['variables'].\n",
      " |          method:     (str) The function from the Scipy library to use. Your choices are:\n",
      " |                      a. root\n",
      " |                      b. fsolve (default)\n",
      " |                      c. broyden1\n",
      " |                      d. broyden2\n",
      " |          options:    (dict) A dictionary of optional arguments to pass to the numerical solver.\n",
      " |                          Check out the Scipy documentation to see the options available for each routine:\n",
      " |                              http://docs.scipy.org/doc/scipy/reference/optimize.html\n",
      " |      \n",
      " |      Returns:\n",
      " |          None\n",
      " |      \n",
      " |      Attributes:\n",
      " |          ss: (Pandas Series) Steady state values of endogenous variables\n",
      " |  \n",
      " |  impulse(self, T=51, t0=1, shocks=None, percent=False, diff=True)\n",
      " |      Method for computing impulse responses for shocks to each state variable.\n",
      " |      \n",
      " |      Arguments:\n",
      " |              T:          (int) Number of periods to simulate. Default: 51\n",
      " |              t0:         (int) Period in which the shocks are realized. May be equal to 0. Default: 1\n",
      " |              shocks:     (list or Numpy array) An (ns x 1) list of shock values. If shocks==None,shocks is set to a vector of 0.01s. Default = None\n",
      " |              percent:    (bool) Whether to multiply simulated values by 100. Only works for log-linear approximations. Default: False\n",
      " |              diff:       (bool) Subtract steady state for linear approximations (or log steady state for log-linear approximations). Default: True\n",
      " |      \n",
      " |      Returns\n",
      " |          None\n",
      " |      \n",
      " |      Attributes:\n",
      " |          irs:    (dict) A dictionary containing Pandas DataFrames. Has the form: self.irs['shock name']['endog var name']\n",
      " |  \n",
      " |  linear_approximation(self, steady_state=None)\n",
      " |      Given a nonlinear rational expectations model in the form:\n",
      " |      \n",
      " |                  psi_1[x(t+1),x(t)] = psi_2[x(t+1),x(t)]\n",
      " |      \n",
      " |          this method returns the linear approximation of the model with matrices a and b such that:\n",
      " |      \n",
      " |                  a * y(t+1) = b * y(t)\n",
      " |      \n",
      " |          where y(t) = x(t) - x is the log deviation of the vector x from its steady state value.\n",
      " |      \n",
      " |      Args:\n",
      " |          steady_state:   (Pandas Series or numpy array)\n",
      " |      \n",
      " |      Returns:\n",
      " |          None\n",
      " |      \n",
      " |      Attributes:\n",
      " |          loglinear:      (bool) Whether the model is loglinear. Sets to False.\n",
      " |          a:              (Numpy ndarray)\n",
      " |          b:              (Numpy ndarray)\n",
      " |  \n",
      " |  log_linear_approximation(self, steady_state=None)\n",
      " |      Given a nonlinear rational expectations model in the form:\n",
      " |      \n",
      " |                  psi_1[x(t+1),x(t)] = psi_2[x(t+1),x(t)]\n",
      " |      \n",
      " |          this method returns the log-linear approximation of the model with matrices a and b such that:\n",
      " |      \n",
      " |                  a * y(t+1) = b * y(t)\n",
      " |      \n",
      " |          where y(t) = log x(t) - log x is the log deviation of the vector x from its steady state value.\n",
      " |      \n",
      " |      Args:\n",
      " |          steady_state:   (Pandas Series or numpy array)\n",
      " |      \n",
      " |      Returns:\n",
      " |          None\n",
      " |      \n",
      " |      Attributes:\n",
      " |          loglinear:      (bool) Whether the model is loglinear. Sets to True.\n",
      " |          a:              (Numpy ndarray)\n",
      " |          b:              (Numpy ndarray)\n",
      " |  \n",
      " |  set_ss(self, steady_state)\n",
      " |      This method allows the user to directly set the steady state of the model Uses Numpy.isclose()\n",
      " |      to print whether each steady state equilibrium condition evaluates to something close to zero.\n",
      " |      \n",
      " |      Args:\n",
      " |          steady_state:   (Pandas Series,Numpy array,or list)\n",
      " |      \n",
      " |      Returns:\n",
      " |          None\n",
      " |      \n",
      " |      Attributes:\n",
      " |          ss: (Pandas Series) Steady state values of endogenous variables\n",
      " |  \n",
      " |  solve_klein(self, a=None, b=None)\n",
      " |      Method solves a linear rational expectations model of the form:\n",
      " |      \n",
      " |              a * x(t+1) = b * x(t) + e(t)\n",
      " |      \n",
      " |      where z(t) is a VAR(1) exogenous forcing process with autocorrelation matrix rho.\n",
      " |      \n",
      " |      The method returns the solution to the law of motion:\n",
      " |      \n",
      " |              u(t)   = f*s(t) + e(t)\n",
      " |              s(t+1) = p*s(t)\n",
      " |      \n",
      " |      Args:\n",
      " |          a:  (Numpy ndarray) coefficient matrix\n",
      " |          b:  (Numpy ndarray) coefficient matrix\n",
      " |      \n",
      " |      Returns:\n",
      " |          None\n",
      " |      \n",
      " |      Attributes:\n",
      " |          f:      (Numpy ndarray) Solution matrix coeffients on s(t)\n",
      " |          p:      (Numpy ndarray) Solution matrix coeffients on s(t)\n",
      " |          stab:   (int) Indicates solution stability and uniqueness\n",
      " |                      stab == 1: too many stable eigenvalues\n",
      " |                      stab == -1: too few stable eigenvalues\n",
      " |                      stab == 0: just enoughstable eigenvalues\n",
      " |          eig:    The generalized eigenvalues from the Schur decomposition\n",
      " |  \n",
      " |  solved(self, round=True, precision=4)\n",
      " |      Returns a string containing the solution to the log-linear system\n",
      " |      \n",
      " |      Args:\n",
      " |          round:       (bool) Whether to round the coefficents in the solution equations. Default: True\n",
      " |          precisions:  (int) Number of decimals to round the coefficients. Default: 4\n",
      " |      \n",
      " |      Returns:\n",
      " |          String with the log-linear approximation to the equilibrium conditions.\n",
      " |      \n",
      " |      Attributes:\n",
      " |          None\n",
      " |  \n",
      " |  stoch_sim(self, T=51, dropFirst=300, covMat=None, seed=None, percent=False, diff=True)\n",
      " |      Method for computing impulse responses for shocks to each state variable.\n",
      " |      \n",
      " |      Arguments:\n",
      " |              T:          (int) Number of periods to simulate. Default: 51\n",
      " |              dropFirst:  (int) Number of periods to simulate before saving output. Default: 300\n",
      " |              covMat:     (list or Numpy.ndarray) Covariance matrix shocks. If covMat is None,it's set to eye(nstates). Default: None\n",
      " |              seed:       (int) Sets the seed for the Numpy random number generator. Default: None\n",
      " |              percent:    (bool) Whether to multiply simulated values by 100. Only works for log-linear approximations. Default: False\n",
      " |              diff:       (bool) Subtract steady state for linear approximations (or log steady state for log-linear approximations). Default: True\n",
      " |      \n",
      " |      Returns\n",
      " |          None\n",
      " |      \n",
      " |      Attributes:\n",
      " |          simulated:    (Pandas DataFrame)\n",
      " |  \n",
      " |  ----------------------------------------------------------------------\n",
      " |  Data descriptors defined here:\n",
      " |  \n",
      " |  __dict__\n",
      " |      dictionary for instance variables (if defined)\n",
      " |  \n",
      " |  __weakref__\n",
      " |      list of weak references to the object (if defined)\n",
      "\n"
     ]
    }
   ],
   "source": [
    "# Initializing the model using linearsolve (ls.) function and variable list, state variables orderd first, and excogenous shocks for each state variables\n",
    "varNames = ['a','k','d','y','c','l']\n",
    "shockNames = ['e_a','e_k','e_d']\n",
    "model = ls.model(equations = equilibrium_equations,\n",
    "                 nstates=3,\n",
    "                 varNames=varNames,\n",
    "                 shockNames=shockNames,\n",
    "                 parameters=parameters)\n",
    "\n",
    "help(ls.model)"
   ]
  },
  {
   "cell_type": "code",
   "execution_count": 22,
   "metadata": {},
   "outputs": [
    {
     "name": "stdout",
     "output_type": "stream",
     "text": [
      "a     1.000000\n",
      "k    14.581033\n",
      "d     0.349023\n",
      "y     1.250850\n",
      "c     0.799068\n",
      "l     0.333343\n",
      "dtype: float64\n"
     ]
    }
   ],
   "source": [
    "# Solve the steady state for the estimated variables from the variable guess using .compute_ss()\n",
    "guess = [1,20,0.5,0.5,1,0.5]\n",
    "model.compute_ss(guess)\n",
    "print(model.ss)\n"
   ]
  },
  {
   "cell_type": "code",
   "execution_count": 23,
   "metadata": {},
   "outputs": [
    {
     "name": "stdout",
     "output_type": "stream",
     "text": [
      "Log-linear equilibrium conditions:\n",
      "\n",
      "0.0374·a[t+1]-0.0243·k[t+1]-1.2515·c[t+1|t]+0.0243·l[t+1|t] = -1.2515·c[t]\n",
      "\n",
      "                                                          0 = -3.0524·a[t]-1.0683·k[t]+3.0524·c[t]+2.5946·l[t]\n",
      "\n",
      "                                                          0 = -1.2508·a[t]-0.4378·k[t]+1.2508·y[t]-0.8131·l[t]\n",
      "\n",
      "                                 14.581·k[t+1]+0.349·d[t+1] = 14.2165·k[t]+0.2618·d[t]+1.2508·y[t]-0.7991·c[t]\n",
      "\n",
      "                                                    -a[t+1] = -0.75·a[t]\n",
      "\n",
      "                             -0.3176·d[t+1]-0.9339·c[t+1|t] = -1.2515·c[t]\n"
     ]
    }
   ],
   "source": [
    "# Linear approximation of the model using the .approximate_and_solve()\n",
    "model.approximate_and_solve()\n",
    "print(model.approximated())"
   ]
  },
  {
   "cell_type": "code",
   "execution_count": 24,
   "metadata": {},
   "outputs": [
    {
     "name": "stdout",
     "output_type": "stream",
     "text": [
      "    e_a         a         k         d         y         c         l\n",
      "0  0.00  0.000000  0.000000  0.000000  0.000000  0.000000  0.000000\n",
      "1  0.00  0.000000  0.000000  0.000000  0.000000  0.000000  0.000000\n",
      "2  0.00  0.000000  0.000000  0.000000  0.000000  0.000000  0.000000\n",
      "3  0.00  0.000000  0.000000  0.000000  0.000000  0.000000  0.000000\n",
      "4  0.00  0.000000  0.000000  0.000000  0.000000  0.000000  0.000000\n",
      "5  0.01  0.010000  0.000000  0.000000  0.016467  0.001543  0.009949\n",
      "6  0.00  0.007500  0.001315  0.000551  0.012609  0.001880  0.007153\n",
      "7  0.00  0.005625  0.002241  0.001225  0.009702  0.002103  0.005066\n",
      "8  0.00  0.004219  0.002884  0.001697  0.007512  0.002241  0.003514\n",
      "9  0.00  0.003164  0.003315  0.002018  0.005859  0.002317  0.002361\n"
     ]
    }
   ],
   "source": [
    "# Finding the impulse response to the shocks. In this case, 1% shock in TFP.\n",
    "model.impulse(T =41,t0=5,shocks=[0.01,0,0])\n",
    "\n",
    "# Results of first 10 period\n",
    "print(model.xirs['e_a'].head(10))"
   ]
  },
  {
   "cell_type": "code",
   "execution_count": 25,
   "metadata": {},
   "outputs": [
    {
     "data": {
      "image/png": "[encoded data removed]",
      "text/plain": [
       "<Figure size 864x576 with 5 Axes>"
      ]
     },
     "metadata": {
      "needs_background": "light"
     },
     "output_type": "display_data"
    }
   ],
   "source": [
    "# Create figure. \n",
    "\n",
    "fig = plt.figure(figsize=(12,8))\n",
    "\n",
    "# Create axis, with 3 rows and two columns\n",
    "\n",
    "ax1 = fig.add_subplot(3,2,1)\n",
    "(model.irs['e_a']['l']*100).plot(ax=ax1,lw=3,alpha=0.75,title='Labor',grid=True)\n",
    "ax1.set_ylabel('% dev from steady state') \n",
    "ax2 = fig.add_subplot(3,2,2)\n",
    "(model.irs['e_a']['k']*100).plot(ax=ax2,lw=3,alpha=0.75,title='Capital',grid=True)\n",
    "ax2.set_ylabel('% dev from steady state')\n",
    "ax3 = fig.add_subplot(3,2,3)\n",
    "(model.irs['e_a']['d']*100).plot(ax=ax3,lw=3,alpha=0.75,title='Durable Goods Consumption',grid=True)\n",
    "ax3.set_ylabel('% dev from steady state')\n",
    "ax4 = fig.add_subplot(3,2,4)\n",
    "(model.irs['e_a']['c']*100).plot(ax=ax4,lw=3,alpha=0.75,title='Nondurable Goods Consumption',grid=True)\n",
    "ax4.set_ylabel('% dev from steady state')\n",
    "\n",
    "ax5 = fig.add_subplot(3,2,5)\n",
    "(model.irs['e_a']['y']*100).plot(ax=ax5,lw=3,alpha=0.75,title='Output',grid=True)\n",
    "ax5.set_ylabel('% dev from steady state')\n",
    "\n",
    "fig.tight_layout()"
   ]
  },
  {
   "cell_type": "markdown",
   "metadata": {},
   "source": [
    "With 1% shock in TFP in period 5:\n",
    "- Labor increases by 1 percent and drops tremendously then slowly returns to steady state.\n",
    "- Output increases by 1.6 percent and drops tremendously then slowly returns to steady state.\n",
    "- Consumptions increaes approximately 0.25 percent and slowly returns to steady state\n",
    "- Capital increase approximately 0.35 percent and slowly returns to steady state\n"
   ]
  },
  {
   "cell_type": "code",
   "execution_count": null,
   "metadata": {},
   "outputs": [],
   "source": [
    "# TFP captures the effects of changes in technology, institution and other productivity shocks."
   ]
  }
 ],
 "metadata": {
  "kernelspec": {
   "display_name": "Python 3",
   "language": "python",
   "name": "python3"
  },
  "language_info": {
   "codemirror_mode": {
    "name": "ipython",
    "version": 3
   },
   "file_extension": ".py",
   "mimetype": "text/x-python",
   "name": "python",
   "nbconvert_exporter": "python",
   "pygments_lexer": "ipython3",
   "version": "3.7.2"
  }
 },
 "nbformat": 4,
 "nbformat_minor": 2
}
