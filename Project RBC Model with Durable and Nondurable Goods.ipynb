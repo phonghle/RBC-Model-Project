{
 "cells": [
  {
   "cell_type": "markdown",
   "metadata": {},
   "source": [
    "# The Centralized RBC Model with Labor with Durable and Nondurable Consumption Goods"
   ]
  },
  {
   "cell_type": "markdown",
   "metadata": {},
   "source": [
    "In this project, we will simulate the dynamic equilibrium of a centralized (household makes their own decision) RBC model.\n",
    "As usual, the model features an infinitely-lived household that chooses consumption, labor,\n",
    "and capital accumulation to maximize the present value of its lifetime utility. However, the\n",
    "household also chooses an amount of a durable consumption good to obtain. The durable\n",
    "consumption good provides utility and gradually depreciates over time so it provides value\n",
    "over time."
   ]
  },
  {
   "cell_type": "markdown",
   "metadata": {},
   "source": [
    "# Background"
   ]
  },
  {
   "cell_type": "markdown",
   "metadata": {},
   "source": [
    "A representative household lives for an infinite number of periods. The expected present\n",
    "value of lifetime utility to the household from consuming nondurable goods C$_{0}$, C$_{1}$, C$_{2}$,...,\n",
    "consuming durable goods D$_{0}$, D$_{1}$, D$_{2}$,..., and working L$_{0}$, L$_{1}$, L$_{2}$,...is denoted by U$_{0}$."
   ]
  },
  {
   "cell_type": "markdown",
   "metadata": {},
   "source": [
    "\\begin{align} U_{0} = E_{0}\\sum\\limits_{t=0}^{\\infty} {\\beta^t}{[logC_t+\\eta{logD_t}+\\varphi\\log(1-L_t)]}\\end{align}"
   ]
  },
  {
   "cell_type": "markdown",
   "metadata": {},
   "source": [
    "where 0 < $\\beta$ < 1 is the household's subjective discount factor, $\\eta$ reflects the relative value\n",
    "that the household places on the utility \n",
    "ow from durable goods, and $\\varphi$ re\n",
    "ects the relative\n",
    "value that the household places on leisure in the utility function. ${E_0}$ denotes the expectation\n",
    "with respect to all information available as of date 0.\n",
    "\n",
    "The household enters period 0 with capital ${K_0}$ > 0. Production in period t is according\n",
    "to a standard production function that has decreasing returns in capital ${K_t}$:"
   ]
  },
  {
   "cell_type": "markdown",
   "metadata": {},
   "source": [
    "\\begin{align}F(A_t, K_t) = (A_t, K_t^{\\alpha}, L_t^{1-\\alpha})\\end{align}"
   ]
  },
  {
   "cell_type": "markdown",
   "metadata": {},
   "source": [
    "where TFP $A_t$ is stochastic:"
   ]
  },
  {
   "cell_type": "markdown",
   "metadata": {},
   "source": [
    "\\begin{align}\\log_{t+1} = \\rho_{A}\\log{A_{t}}+\\epsilon_{t+1}^{A}\\end{align}"
   ]
  },
  {
   "cell_type": "markdown",
   "metadata": {},
   "source": [
    "The household's resource constraint in each period t is:"
   ]
  },
  {
   "cell_type": "markdown",
   "metadata": {},
   "source": [
    "\\begin{align} C_t+K_{t+1}+D_{t+1}=A_tK_t^{\\alpha}L_t^{1-\\alpha}+(1-\\delta_k)K_t+(1-\\delta_d)D_t\\end{align}"
   ]
  },
  {
   "cell_type": "markdown",
   "metadata": {},
   "source": [
    "where $\\delta_k$ is the depreciation rate of capital and $\\delta_d$ is the depreciation rate of durable consumption goods. Nondurable goods don't depreciate because we tend to use/consume it faster than durable goods."
   ]
  },
  {
   "cell_type": "markdown",
   "metadata": {},
   "source": [
    "In period 0, the household solves:"
   ]
  },
  {
   "cell_type": "markdown",
   "metadata": {},
   "source": [
    "\\begin{align} max_{C_0,L_0,K_1}=E_{0}\\sum\\limits_{t=0}^{\\infty} {\\beta^t}{[logC_t+\\eta{logD_t}+\\varphi\\log(1-L_t)]} \\end{align}\n",
    "\\begin{align} s.t.\\;\\; C_t+K_{t+1}+D_{t+1}=A_tK_t^{\\alpha}L_t^{1-\\alpha}+(1-\\delta_k)K_t+(1-\\delta_d)D_t\\end{align}"
   ]
  },
  {
   "cell_type": "markdown",
   "metadata": {},
   "source": [
    "which can be written as a choice of $L_0$, $K_1$, and $D_1$ only:"
   ]
  },
  {
   "cell_type": "markdown",
   "metadata": {},
   "source": [
    "\\begin{align} max_{L_0,K_1}=E_{0}\\sum\\limits_{t=0}^{\\infty} {\\beta^t}{[log(A_tK_t^{\\alpha}L_t^{1-\\alpha}+(1-\\delta_k)K_t+(1-\\delta_d)D_t - K_{t+1}-D_{t+1})+\\eta{logD_t}+\\varphi\\log(1-L_t)]} \\end{align}"
   ]
  },
  {
   "cell_type": "markdown",
   "metadata": {},
   "source": [
    "Recall the Cobb-Douglas production function:"
   ]
  },
  {
   "cell_type": "markdown",
   "metadata": {},
   "source": [
    "\\begin{align} Y_t = A_t K_t^{\\alpha}L_t^{1-\\alpha} \\end{align}"
   ]
  },
  {
   "cell_type": "markdown",
   "metadata": {},
   "source": [
    "where $Y$ denotes the production of final goods and services, $K$ is the stock of physical capital, $L$ is the labor force (either number of workers or number of worker hours), and $A$ is total factor productivity or $TFP$ which represents all other factors that might affect production that are not captured by $K, L$."
   ]
  },
  {
   "cell_type": "markdown",
   "metadata": {},
   "source": [
    "Goods Market Clearing Condition:\n",
    "\\begin{align} Y_t = C_t+K_{t+1}-(1-\\delta_k)K_t+D_{t+1}-(1-\\delta_d)D_t \\end{align}\n",
    "\n",
    "The condition represents the aggregate resource constraint for the economy."
   ]
  },
  {
   "cell_type": "markdown",
   "metadata": {},
   "source": [
    "We mentioned FTP quite a bit in the project so let's elaborate more on it. In the next few pages or so, we will use linear regression to estimate the relationship between TFP and GDP per worker using the data from Fred.\n",
    "The data is called `cross_country_production.csv` is available here: https://raw.githubusercontent.com/phonghle/RBC-Model-Project/master/cross_country_production.csv . In addition to the year, name and country code, the file contains production data in 2017 for 118 countries.\n",
    "\n",
    "\n",
    "| Name               | Description               | Units                       |\n",
    "|--------------------|---------------------------|-----------------------------|\n",
    "| `gdp`              | real GDP                  | Millions of 2001 US dollars |\n",
    "| `labor`            | Average number of workers | Millions                    |\n",
    "| `physical_capital` | Physical capital stock    | Millions of 2001 US dollars |\n",
    "| `human_capital`    | Human capital per worker  | Index (unitless)            |\n",
    "\n",
    "We can use the data to compute TFP for each country using the equation:\n",
    "\\begin{align}\n",
    "A & = \\frac{Y}{K^{\\alpha}(hL)^{1-\\alpha}}\n",
    "\\end{align}\n",
    "where we added $h$ for human-capital per worker."
   ]
  },
  {
   "cell_type": "code",
   "execution_count": 7,
   "metadata": {},
   "outputs": [],
   "source": [
    "import numpy as np\n",
    "import pandas as pd\n",
    "import matplotlib.pyplot as plt\n",
    "import linearsolve as ls\n",
    "plt.style.use('classic')\n",
    "%matplotlib inline"
   ]
  },
  {
   "cell_type": "code",
   "execution_count": 125,
   "metadata": {
    "scrolled": true
   },
   "outputs": [
    {
     "data": {
      "text/html": [
       "<div>\n",
       "<style scoped>\n",
       "    .dataframe tbody tr th:only-of-type {\n",
       "        vertical-align: middle;\n",
       "    }\n",
       "\n",
       "    .dataframe tbody tr th {\n",
       "        vertical-align: top;\n",
       "    }\n",
       "\n",
       "    .dataframe thead th {\n",
       "        text-align: right;\n",
       "    }\n",
       "</style>\n",
       "<table border=\"1\" class=\"dataframe\">\n",
       "  <thead>\n",
       "    <tr style=\"text-align: right;\">\n",
       "      <th></th>\n",
       "      <th>country_code</th>\n",
       "      <th>country</th>\n",
       "      <th>gdp</th>\n",
       "      <th>labor</th>\n",
       "      <th>human_capital</th>\n",
       "      <th>physical_capital</th>\n",
       "    </tr>\n",
       "    <tr>\n",
       "      <th>year</th>\n",
       "      <th></th>\n",
       "      <th></th>\n",
       "      <th></th>\n",
       "      <th></th>\n",
       "      <th></th>\n",
       "      <th></th>\n",
       "    </tr>\n",
       "  </thead>\n",
       "  <tbody>\n",
       "    <tr>\n",
       "      <th>2017</th>\n",
       "      <td>AGO</td>\n",
       "      <td>Angola</td>\n",
       "      <td>156198.375000</td>\n",
       "      <td>15.389316</td>\n",
       "      <td>1.467321</td>\n",
       "      <td>1.080252e+06</td>\n",
       "    </tr>\n",
       "    <tr>\n",
       "      <th>2017</th>\n",
       "      <td>ALB</td>\n",
       "      <td>Albania</td>\n",
       "      <td>35175.601562</td>\n",
       "      <td>1.046984</td>\n",
       "      <td>2.951184</td>\n",
       "      <td>1.941448e+05</td>\n",
       "    </tr>\n",
       "    <tr>\n",
       "      <th>2017</th>\n",
       "      <td>ARE</td>\n",
       "      <td>United Arab Emirates</td>\n",
       "      <td>639613.937500</td>\n",
       "      <td>3.891850</td>\n",
       "      <td>2.740120</td>\n",
       "      <td>2.953501e+06</td>\n",
       "    </tr>\n",
       "    <tr>\n",
       "      <th>2017</th>\n",
       "      <td>ARG</td>\n",
       "      <td>Argentina</td>\n",
       "      <td>732951.000000</td>\n",
       "      <td>19.814985</td>\n",
       "      <td>3.035439</td>\n",
       "      <td>2.364575e+06</td>\n",
       "    </tr>\n",
       "    <tr>\n",
       "      <th>2017</th>\n",
       "      <td>ARM</td>\n",
       "      <td>Armenia</td>\n",
       "      <td>30128.257812</td>\n",
       "      <td>1.014478</td>\n",
       "      <td>3.130451</td>\n",
       "      <td>8.927149e+04</td>\n",
       "    </tr>\n",
       "  </tbody>\n",
       "</table>\n",
       "</div>"
      ],
      "text/plain": [
       "     country_code               country            gdp      labor  \\\n",
       "year                                                                \n",
       "2017          AGO                Angola  156198.375000  15.389316   \n",
       "2017          ALB               Albania   35175.601562   1.046984   \n",
       "2017          ARE  United Arab Emirates  639613.937500   3.891850   \n",
       "2017          ARG             Argentina  732951.000000  19.814985   \n",
       "2017          ARM               Armenia   30128.257812   1.014478   \n",
       "\n",
       "      human_capital  physical_capital  \n",
       "year                                   \n",
       "2017       1.467321      1.080252e+06  \n",
       "2017       2.951184      1.941448e+05  \n",
       "2017       2.740120      2.953501e+06  \n",
       "2017       3.035439      2.364575e+06  \n",
       "2017       3.130451      8.927149e+04  "
      ]
     },
     "execution_count": 125,
     "metadata": {},
     "output_type": "execute_result"
    }
   ],
   "source": [
    "# Import data into a DataFrame called 'df'. Use the leftmost column as the index\n",
    "df = pd.read_csv(r'C:\\Users\\phongleh\\Desktop\\Econ 126  Comp Macro\\Project\\cross_country_production.csv', index_col = 0)\n",
    "\n",
    "# Print the first five rows of the imported data\n",
    "df.head()"
   ]
  },
  {
   "cell_type": "code",
   "execution_count": 126,
   "metadata": {},
   "outputs": [],
   "source": [
    "df = df.set_index('country_code')"
   ]
  },
  {
   "cell_type": "code",
   "execution_count": 127,
   "metadata": {},
   "outputs": [],
   "source": [
    "# Add a column to df called 'gdp_pw' equal to GDP divided by labor divided by 1000 so units are in thousands of $\n",
    "df['gdp_pw'] = df['gdp']/df['labor']/1000\n",
    "\n",
    "# Add a column to df called 'physical_capital_pw' equal to physical capital divided by labor divided by 1000 so units are in thousands of $\n",
    "df['physical_capital_pw'] = df['physical_capital']/df['labor']/1000\n",
    "\n",
    "#From the recent production function studies conducted for the US economy it has been found that labour’s \n",
    "#share is about 70 per cent and capital’s share is about 30 per cent of national income\n",
    "# Set alpha to 1/3\n",
    "alpha =1/3\n",
    "\n",
    "# Add a column to df called 'tfp' equal to TFP computed using the production function\n",
    "df['tfp'] = df['gdp']/df['physical_capital']**alpha/(df['labor']*df['human_capital'])**(1-alpha)\n",
    "\n",
    "# Sort the rows of df so that the GDP per worker column is in ascending order\n",
    "df = df.sort_values('gdp_pw')"
   ]
  },
  {
   "cell_type": "code",
   "execution_count": 128,
   "metadata": {},
   "outputs": [
    {
     "data": {
      "text/html": [
       "<div>\n",
       "<style scoped>\n",
       "    .dataframe tbody tr th:only-of-type {\n",
       "        vertical-align: middle;\n",
       "    }\n",
       "\n",
       "    .dataframe tbody tr th {\n",
       "        vertical-align: top;\n",
       "    }\n",
       "\n",
       "    .dataframe thead th {\n",
       "        text-align: right;\n",
       "    }\n",
       "</style>\n",
       "<table border=\"1\" class=\"dataframe\">\n",
       "  <thead>\n",
       "    <tr style=\"text-align: right;\">\n",
       "      <th></th>\n",
       "      <th>country</th>\n",
       "      <th>gdp</th>\n",
       "      <th>labor</th>\n",
       "      <th>human_capital</th>\n",
       "      <th>physical_capital</th>\n",
       "      <th>gdp_pw</th>\n",
       "      <th>physical_capital_pw</th>\n",
       "      <th>tfp</th>\n",
       "    </tr>\n",
       "    <tr>\n",
       "      <th>country_code</th>\n",
       "      <th></th>\n",
       "      <th></th>\n",
       "      <th></th>\n",
       "      <th></th>\n",
       "      <th></th>\n",
       "      <th></th>\n",
       "      <th></th>\n",
       "      <th></th>\n",
       "    </tr>\n",
       "  </thead>\n",
       "  <tbody>\n",
       "    <tr>\n",
       "      <th>CAF</th>\n",
       "      <td>Central African Republic</td>\n",
       "      <td>3401.711670</td>\n",
       "      <td>1.779000</td>\n",
       "      <td>1.540399</td>\n",
       "      <td>19002.357422</td>\n",
       "      <td>1.912148</td>\n",
       "      <td>10.681482</td>\n",
       "      <td>65.096188</td>\n",
       "    </tr>\n",
       "    <tr>\n",
       "      <th>BDI</th>\n",
       "      <td>Burundi</td>\n",
       "      <td>8911.437500</td>\n",
       "      <td>4.640000</td>\n",
       "      <td>1.389273</td>\n",
       "      <td>15963.504883</td>\n",
       "      <td>1.920568</td>\n",
       "      <td>3.440411</td>\n",
       "      <td>102.180468</td>\n",
       "    </tr>\n",
       "    <tr>\n",
       "      <th>NER</th>\n",
       "      <td>Niger</td>\n",
       "      <td>19299.994141</td>\n",
       "      <td>9.365901</td>\n",
       "      <td>1.211936</td>\n",
       "      <td>96472.648438</td>\n",
       "      <td>2.060666</td>\n",
       "      <td>10.300413</td>\n",
       "      <td>83.317498</td>\n",
       "    </tr>\n",
       "    <tr>\n",
       "      <th>COD</th>\n",
       "      <td>D.R. of the Congo</td>\n",
       "      <td>62224.960938</td>\n",
       "      <td>29.836481</td>\n",
       "      <td>1.666029</td>\n",
       "      <td>175908.578125</td>\n",
       "      <td>2.085533</td>\n",
       "      <td>5.895755</td>\n",
       "      <td>82.145208</td>\n",
       "    </tr>\n",
       "    <tr>\n",
       "      <th>LBR</th>\n",
       "      <td>Liberia</td>\n",
       "      <td>3711.025391</td>\n",
       "      <td>1.496000</td>\n",
       "      <td>1.810960</td>\n",
       "      <td>16526.421875</td>\n",
       "      <td>2.480632</td>\n",
       "      <td>11.047073</td>\n",
       "      <td>74.967673</td>\n",
       "    </tr>\n",
       "  </tbody>\n",
       "</table>\n",
       "</div>"
      ],
      "text/plain": [
       "                               country           gdp      labor  \\\n",
       "country_code                                                      \n",
       "CAF           Central African Republic   3401.711670   1.779000   \n",
       "BDI                            Burundi   8911.437500   4.640000   \n",
       "NER                              Niger  19299.994141   9.365901   \n",
       "COD                  D.R. of the Congo  62224.960938  29.836481   \n",
       "LBR                            Liberia   3711.025391   1.496000   \n",
       "\n",
       "              human_capital  physical_capital    gdp_pw  physical_capital_pw  \\\n",
       "country_code                                                                   \n",
       "CAF                1.540399      19002.357422  1.912148            10.681482   \n",
       "BDI                1.389273      15963.504883  1.920568             3.440411   \n",
       "NER                1.211936      96472.648438  2.060666            10.300413   \n",
       "COD                1.666029     175908.578125  2.085533             5.895755   \n",
       "LBR                1.810960      16526.421875  2.480632            11.047073   \n",
       "\n",
       "                     tfp  \n",
       "country_code              \n",
       "CAF            65.096188  \n",
       "BDI           102.180468  \n",
       "NER            83.317498  \n",
       "COD            82.145208  \n",
       "LBR            74.967673  "
      ]
     },
     "execution_count": 128,
     "metadata": {},
     "output_type": "execute_result"
    }
   ],
   "source": [
    "df.head()"
   ]
  },
  {
   "cell_type": "code",
   "execution_count": 129,
   "metadata": {},
   "outputs": [
    {
     "data": {
      "image/png": "[encoded data removed]",
      "text/plain": [
       "<Figure size 432x288 with 1 Axes>"
      ]
     },
     "metadata": {
      "needs_background": "light"
     },
     "output_type": "display_data"
    }
   ],
   "source": [
    "# Construct a scatter plot of TFP against real GDP per worker with:\n",
    "#    1. All countries as blue circles, size 75, opacity (alpha) 0.25, label: 'All countries'\n",
    "#    2. USA as red square, size 75, opacity (alpha) 0.5, label='USA'\n",
    "#    3. Add a legend in the upper left corner with scatterpoints=1\n",
    "#    4. x-axis limits: [-10,250]\n",
    "#    4. y-axis limits: [-10,1600]\n",
    "#    6. x-axis label: 'Real GDP capital per worker\\n(Thousands of 2001 $)'\n",
    "#    7. y-axis label: 'TFP (Unitless))'\n",
    "#    8. Add a grid if you'd like\n",
    "\n",
    "fig = plt.figure()\n",
    "ax = fig.add_subplot(1,1,1)\n",
    "ax.scatter(df['gdp_pw'], df['tfp'],s=75,alpha=0.25,label='Rest of the countries')\n",
    "ax.scatter(df['gdp_pw'].loc['USA'],df['tfp'].loc['USA'],marker='s',c='r',s=75,alpha=0.5,label='USA')\n",
    "ax.legend(scatterpoints=1,loc='upper left')\n",
    "ax.set_xlim([-10,250])\n",
    "ax.set_ylim([-10,1600])\n",
    "ax.set_xlabel('Real GDP per worker\\n(Thousands of 2001 $)')\n",
    "ax.set_ylabel('TFP (Unitless)')\n",
    "ax.grid()"
   ]
  },
  {
   "cell_type": "markdown",
   "metadata": {},
   "source": [
    "## Estimate Relationship Between TFP and GDP per Worker\n",
    "\n",
    "The Statsmodels module is an excellent tool for a broad range of statistical applications. Learn more about Statsmodels here: https://www.statsmodels.org/stable/index.html. We can use the module to estimate the relationship between TFP and GDP per worker in our data.\n",
    "\n",
    "Since the scatter plot reveals some curvature in the relationship between TFP and GDP per worker, let's specifiy the linear regression model with the variables in logs:\n",
    "\n",
    "\\begin{align}\n",
    "\\log \\text{TFP}_i & = \\beta_0 + \\beta_1 \\log \\text{GDP}_i + \\epsilon_i\n",
    "\\end{align}\n",
    "\n",
    "Once we've obtained the estimated coefficients $\\hat{\\beta}_0$ and $\\hat{\\beta}_1$, we can compute predicted values for TFP $\\widehat{TFP}_i$ using by setting $\\epsilon_i=0$ and solving the regression equation for TFP:\n",
    "\n",
    "\\begin{align}\n",
    "\\widehat{TFP}_i & = \\exp\\left(\\hat{\\beta}_0 + \\hat{\\beta}_1 \\log \\text{GDP}_i\\right)\n",
    "\\end{align}"
   ]
  },
  {
   "cell_type": "code",
   "execution_count": 130,
   "metadata": {},
   "outputs": [],
   "source": [
    "# Import the Statsmodels module\n",
    "import statsmodels.api as sm"
   ]
  },
  {
   "cell_type": "code",
   "execution_count": 140,
   "metadata": {},
   "outputs": [
    {
     "name": "stdout",
     "output_type": "stream",
     "text": [
      "country_code\n",
      "CAF    4.175866\n",
      "BDI    4.626741\n",
      "NER    4.422659\n",
      "COD    4.408489\n",
      "LBR    4.317057\n",
      "         ...   \n",
      "BRN    6.491198\n",
      "NOR    6.424898\n",
      "MAC    6.727620\n",
      "ARE    6.824529\n",
      "IRL    6.856335\n",
      "Name: tfp, Length: 144, dtype: float64\n",
      "              const    gdp_pw\n",
      "country_code                 \n",
      "CAF             1.0  0.648227\n",
      "BDI             1.0  0.652621\n",
      "NER             1.0  0.723029\n",
      "COD             1.0  0.735024\n",
      "LBR             1.0  0.908513\n"
     ]
    }
   ],
   "source": [
    "# Create a variable called 'y' that will be the dependent variable in the regression.\n",
    "y = np.log(df['tfp'])\n",
    "\n",
    "# Create a variable called 'x' that will be to the independent variable in the regression. \n",
    "\n",
    "x = np.log(df['gdp_pw'])\n",
    "\n",
    "# Use the function sm.add_constant() to add a constant to x\n",
    "x = sm.add_constant(x)\n",
    "\n",
    "# Print the first five rows of x\n",
    "print(x.head())"
   ]
  },
  {
   "cell_type": "code",
   "execution_count": 132,
   "metadata": {},
   "outputs": [
    {
     "name": "stdout",
     "output_type": "stream",
     "text": [
      "                 Results: Ordinary least squares\n",
      "=================================================================\n",
      "Model:              OLS              Adj. R-squared:     0.909   \n",
      "Dependent Variable: tfp              AIC:                -88.0207\n",
      "Date:               2020-06-23 15:15 BIC:                -82.0811\n",
      "No. Observations:   144              Log-Likelihood:     46.010  \n",
      "Df Model:           1                F-statistic:        1433.   \n",
      "Df Residuals:       142              Prob (F-statistic): 4.44e-76\n",
      "R-squared:          0.910            Scale:              0.031338\n",
      "-------------------------------------------------------------------\n",
      "             Coef.    Std.Err.      t      P>|t|    [0.025   0.975]\n",
      "-------------------------------------------------------------------\n",
      "const        4.0640     0.0455   89.3637   0.0000   3.9741   4.1539\n",
      "gdp_pw       0.4954     0.0131   37.8573   0.0000   0.4695   0.5213\n",
      "-----------------------------------------------------------------\n",
      "Omnibus:              6.046        Durbin-Watson:           1.876\n",
      "Prob(Omnibus):        0.049        Jarque-Bera (JB):        7.584\n",
      "Skew:                 0.238        Prob(JB):                0.023\n",
      "Kurtosis:             4.019        Condition No.:           12   \n",
      "=================================================================\n",
      "\n"
     ]
    }
   ],
   "source": [
    "# Create an OLS model using Statsmodels\n",
    "model = sm.OLS(y,x)\n",
    "\n",
    "# Fit the OLS model to data\n",
    "results = model.fit()\n",
    "\n",
    "\n",
    "# Print the summary2() method of results to print summary of regression results:\n",
    "print(results.summary2())"
   ]
  },
  {
   "cell_type": "markdown",
   "metadata": {},
   "source": [
    "Estimated coefficients are stored in the `params` attribute of `results`. Residuals of the regression are stored in the attribute `resid`. And predicted values of the dependent variable are stored in `fittedvalues`."
   ]
  },
  {
   "cell_type": "code",
   "execution_count": 133,
   "metadata": {},
   "outputs": [
    {
     "name": "stdout",
     "output_type": "stream",
     "text": [
      "const     4.064044\n",
      "gdp_pw    0.495400\n",
      "dtype: float64\n"
     ]
    }
   ],
   "source": [
    "# Print estimated coefficients of linear regression\n",
    "print(results.params)"
   ]
  },
  {
   "cell_type": "markdown",
   "metadata": {},
   "source": [
    "Since p-value is small and the cofficient on log GDP per worker is approximately 0.5 so we can conclude that a one percent increase in GDP per worker increases TFP by one half of a percent."
   ]
  },
  {
   "cell_type": "code",
   "execution_count": 134,
   "metadata": {},
   "outputs": [
    {
     "name": "stdout",
     "output_type": "stream",
     "text": [
      "0.9098512657662453\n"
     ]
    }
   ],
   "source": [
    "# Print R-squared of the regression\n",
    "print(results.rsquared)"
   ]
  },
  {
   "cell_type": "markdown",
   "metadata": {},
   "source": [
    "The R-squared of the regression is 0.905 and we can conclude that GDP per worker explains over 90 percent of the variation in TFP."
   ]
  },
  {
   "cell_type": "code",
   "execution_count": 135,
   "metadata": {},
   "outputs": [
    {
     "name": "stdout",
     "output_type": "stream",
     "text": [
      "country_code\n",
      "CAF   -0.209310\n",
      "BDI    0.239388\n",
      "NER    0.000426\n",
      "COD   -0.019686\n",
      "LBR   -0.197064\n",
      "dtype: float64\n"
     ]
    }
   ],
   "source": [
    "# Print the first five rows of residuals.\n",
    "print(results.resid.head())"
   ]
  },
  {
   "cell_type": "code",
   "execution_count": 136,
   "metadata": {},
   "outputs": [
    {
     "name": "stdout",
     "output_type": "stream",
     "text": [
      "3.676071792647741e-15\n"
     ]
    }
   ],
   "source": [
    "# Print the mean of the residuals of the regression.\n",
    "print(results.resid.mean())"
   ]
  },
  {
   "cell_type": "code",
   "execution_count": 137,
   "metadata": {},
   "outputs": [
    {
     "name": "stdout",
     "output_type": "stream",
     "text": [
      "country_code\n",
      "CAF    4.385176\n",
      "BDI    4.387352\n",
      "NER    4.422232\n",
      "COD    4.428175\n",
      "LBR    4.514121\n",
      "dtype: float64\n"
     ]
    }
   ],
   "source": [
    "# Create a variable called 'yhat' equal to the fitted values of y:\n",
    "yhat = results.fittedvalues\n",
    "\n",
    "# Print the first five rows of yhat\n",
    "print(yhat.head())"
   ]
  },
  {
   "cell_type": "markdown",
   "metadata": {},
   "source": [
    "Recall that we can use estimated parameters can be used to compute out-of-sample predictions:\n",
    "\n",
    "\\begin{align}\n",
    "\\widehat{TFP}_i & = \\exp\\left(\\hat{\\beta}_0 + \\hat{\\beta}_1 \\log \\text{GDP}_i\\right)\n",
    "\\end{align}"
   ]
  },
  {
   "cell_type": "code",
   "execution_count": 138,
   "metadata": {},
   "outputs": [],
   "source": [
    "# Create variable called 'gdp_values' that is an array from 0.1 to 300\n",
    "gdp_values = np.arange(0.1,300,0.001)\n",
    "\n",
    "# Create variable called 'beta0' equal to the constant of the regression\n",
    "beta0 = results.params['const']\n",
    "\n",
    "# Create variable called 'beta1' equal to the coefficient on log GDP per worker from the regression\n",
    "beta1 = results.params['gdp_pw']\n",
    "\n",
    "# Create a variable called 'ahat' that is equal to the predicted values of TFP corresponding to gdp_values\n",
    "ahat = np.exp(beta0 + beta1*np.log(gdp_values))"
   ]
  },
  {
   "cell_type": "code",
   "execution_count": 139,
   "metadata": {},
   "outputs": [
    {
     "data": {
      "image/png": "[encoded data removed]",
      "text/plain": [
       "<Figure size 432x288 with 1 Axes>"
      ]
     },
     "metadata": {
      "needs_background": "light"
     },
     "output_type": "display_data"
    }
   ],
   "source": [
    "# Recreate the scatter plot of TFP against real GDP per worker with:\n",
    "#    1. All features and settings from the previous plot\n",
    "#    2. A plot of ahat against gdp_values; linewidth: 3, opacity: 0.5, label: 'OLS', color: magenta (c='m')\n",
    "\n",
    "fig = plt.figure()\n",
    "ax = fig.add_subplot(1,1,1)\n",
    "ax.scatter(df['gdp_pw'],df['tfp'],s=75,alpha=0.25,label='All countries')\n",
    "ax.scatter(df['gdp_pw'].loc['USA'],df['tfp'].loc['USA'],marker='s',c='r',s=75,alpha=0.5,label='USA')\n",
    "ax.plot(gdp_values,ahat,c='m',lw=3,alpha=0.5,label='OLS')\n",
    "ax.legend(scatterpoints=1,loc='upper left')\n",
    "ax.set_xlim([-10,250])\n",
    "ax.set_ylim([-10,1600])\n",
    "ax.set_xlabel('Real GDP per worker\\n(Thousands of 2001 $)')\n",
    "ax.set_ylabel('TFP (Unitless)')\n",
    "ax.grid()"
   ]
  },
  {
   "cell_type": "markdown",
   "metadata": {},
   "source": [
    "#### We should have a better understanding about FTP and its relationship with other factors by now. Let's come back to our RBC model.\n",
    "\n",
    "# Model prepration\n",
    "\n",
    "#### First, we need to derive our equations from above and get to equilibrium conditions.\n",
    "\n",
    "\n",
    "\\begin{align}\n",
    "0 & = \\beta\\left[\\frac{\\alpha A_{t+1}K_{t+1}^{\\alpha-1}L_{t+1}^{1-\\alpha} +1-\\delta_d }{C_{t+1}}\\right] - \\frac{1}{C_t}\\\\\n",
    "0 & = \\frac{(1-\\alpha)A_tK_t^{\\alpha}L_t^{-\\alpha}}{C_t} - \\frac{\\varphi}{1-L_t}\\\\\n",
    "0 & = A_t K_t^{\\alpha}L_t^{1-\\alpha} - Y_t\\\\\n",
    "0 & = C_t + K_(t+1) - (1-{\\delta}_k)K_t + D_t+1 - (1-{\\delta}_d)D_t\\\\\n",
    "0 & = \\rho \\log A_t - \\log A_{t+1}\n",
    "\\end{align}\n"
   ]
  },
  {
   "cell_type": "code",
   "execution_count": 8,
   "metadata": {},
   "outputs": [],
   "source": [
    "# Importing Nondurable Goods Data from the Federal Reserce at St. Louis, setting dates (first column) as \n",
    "# Index, seperating the columns, skiping other information on the webstie, and formating the dates. \n",
    "\n",
    "# Nondurable goods\n",
    "df = pd.read_csv('https://fred.stlouisfed.org/data/PCND.txt',index_col=0,sep='\\s+',skiprows=14,parse_dates = True)\n",
    "\n",
    "# Durable goods\n",
    "df2 = pd.read_csv('https://fred.stlouisfed.org/data/PCDG.txt',index_col=0,sep='\\s+',skiprows=14,parse_dates = True)\n",
    "\n",
    "# Replacing 'VALUE' columns name from respective data \n",
    "df.rename(columns={'VALUE': 'PCND'}, inplace=True)\n",
    "df2.rename(columns={'VALUE': 'PCDG'}, inplace=True)"
   ]
  },
  {
   "cell_type": "code",
   "execution_count": 9,
   "metadata": {},
   "outputs": [
    {
     "data": {
      "text/plain": [
       "Text(0.5, 1.0, 'Ratio of Nondurable goods over Durable goods')"
      ]
     },
     "execution_count": 9,
     "metadata": {},
     "output_type": "execute_result"
    },
    {
     "data": {
      "image/png": "[encoded data removed]",
      "text/plain": [
       "<Figure size 1152x432 with 1 Axes>"
      ]
     },
     "metadata": {
      "needs_background": "light"
     },
     "output_type": "display_data"
    }
   ],
   "source": [
    "# Adding the durable goods data into the dataframe for non-durable goods\n",
    "\n",
    "df['PCDG']=df2['PCDG']\n",
    "df['DGND']=df['PCDG']+df['PCND']\n",
    "\n",
    "# Adding a column for the ratio of nondurable goods to durable goods \n",
    "\n",
    "df['ratio']=df['PCND']/df['PCDG'] \n",
    "\n",
    "# Setting the graph figure size\n",
    "plt.figure(figsize=(16,6))\n",
    "\n",
    "# Ploting the ratio of nondurable goods to durable goods over time\n",
    "\n",
    "plt.plot(df['ratio'], lw=3, label=\"Ratio\")\n",
    "\n",
    "# Inserting the ledgend for the graph \n",
    "plt.legend()\n",
    "plt.title(\"Ratio of Nondurable goods over Durable goods\")"
   ]
  },
  {
   "cell_type": "code",
   "execution_count": 10,
   "metadata": {},
   "outputs": [
    {
     "name": "stdout",
     "output_type": "stream",
     "text": [
      "Average Ratio= 2.2846\n"
     ]
    }
   ],
   "source": [
    "# Finding the avrage of ratio for nondurable goods to durable goods \n",
    "\n",
    "print(\"Average Ratio=\",np.round(np.average(df['ratio']),decimals=4))"
   ]
  },
  {
   "cell_type": "code",
   "execution_count": 11,
   "metadata": {},
   "outputs": [],
   "source": [
    "#Setting a variable for the avrage ratio\n",
    "\n",
    "c_d=(np.average(df['ratio'])) "
   ]
  },
  {
   "cell_type": "code",
   "execution_count": 12,
   "metadata": {},
   "outputs": [
    {
     "name": "stdout",
     "output_type": "stream",
     "text": [
      "beta             0.995000\n",
      "phi              2.034915\n",
      "alpha            0.350000\n",
      "delta_k          0.025000\n",
      "delta_d          0.250000\n",
      "rho              0.750000\n",
      "sigma_squared    0.006000\n",
      "n                0.111628\n",
      "dtype: float64\n"
     ]
    },
    {
     "name": "stderr",
     "output_type": "stream",
     "text": [
      "C:\\Users\\phongleh\\anaconda3\\lib\\site-packages\\ipykernel_launcher.py:2: DeprecationWarning: The default dtype for empty Series will be 'object' instead of 'float64' in a future version. Specify a dtype explicitly to silence this warning.\n",
      "  \n"
     ]
    }
   ],
   "source": [
    "# Storing the given parameter values into the a panda series \n",
    "parameters = pd.Series()\n",
    "parameters['beta'] = 0.995\n",
    "parameters['phi'] = 2.034915\n",
    "parameters['alpha'] = 0.35\n",
    "parameters['delta_k'] = 0.025\n",
    "parameters['delta_d'] = 0.25\n",
    "parameters['rho'] = 0.75\n",
    "parameters['sigma_squared']= 0.006\n",
    "\n",
    "# Finding eta(n) value with respect to the First order condition for the durable goods\n",
    "parameters['n'] = (parameters.beta**-1-1+parameters.delta_d)/c_d\n",
    "print(parameters)"
   ]
  },
  {
   "cell_type": "code",
   "execution_count": 13,
   "metadata": {},
   "outputs": [],
   "source": []
  },
  {
   "cell_type": "code",
   "execution_count": 49,
   "metadata": {},
   "outputs": [],
   "source": [
    "# Define a function to find the equlibrium conditions for the model using the FOCs\n",
    "# This function be will initialized later using linearsolve module\n",
    "\n",
    "def equilibrium_equations(variables_forward,variables_current,parameters):\n",
    "    # Parameters\n",
    "    p = parameters\n",
    "    # Current variables.\n",
    "    cur = variables_current\n",
    "    # Forward variables. \n",
    "    fwd = variables_forward\n",
    "\n",
    "    # Euler equation for Capital\n",
    "    euler_equation = p.beta*(p.alpha*fwd.a*fwd.k**(p.alpha-1)*fwd.l**(1-p.alpha)+1-p.delta_k)/(fwd.c) - 1/cur.c\n",
    "    \n",
    "    # Euler equation for Durable Goods\n",
    "    \n",
    "    # Labor-leisure choice\n",
    "    labor_leisure = (1-p.alpha)*(cur.a)*(cur.k**p.alpha)*cur.l**(-p.alpha)/cur.c - p.phi/(1-cur.l)\n",
    "    \n",
    "    # Production function\n",
    "    production_function = cur.a*cur.k**p.alpha*cur.l**(1-p.alpha) - cur.y\n",
    "    \n",
    "    # Market clearing\n",
    "    market_clearing = cur.c+fwd.k-(1-p.delta_k)*cur.k+fwd.d-(1-p.delta_d)*cur.d -cur.y\n",
    "    \n",
    "    # Exogenous tfp\n",
    "    tfp_process = p.rho*np.log(cur.a) - np.log(fwd.a)\n",
    "    durable_goods = p.beta*(1-p.delta_d)/fwd.c+(p.n/fwd.d)-1/cur.c\n",
    "\n",
    "\n",
    "    #stacking the equations \n",
    "    return np.array([\n",
    "        euler_equation,\n",
    "        durable_goods,\n",
    "        labor_leisure,\n",
    "        production_function,\n",
    "        market_clearing,\n",
    "        tfp_process\n",
    "        ])\n"
   ]
  },
  {
   "cell_type": "code",
   "execution_count": 50,
   "metadata": {},
   "outputs": [],
   "source": [
    "# Create variable called 'varNames' that stores the variable names in a list with state variables ordered first\n",
    "varNames = ['a','k','d','y','c','l']\n",
    "\n",
    "# Create variable called 'shockNames' that stores an exogenous shock name for each state variable.\n",
    "shockNames = ['e_a','e_k', 'e_d']"
   ]
  },
  {
   "cell_type": "code",
   "execution_count": 51,
   "metadata": {},
   "outputs": [],
   "source": [
    "# Initializing the model using linearsolve module: state variables orderd first, and excogenous shocks for each state variables\n",
    "model = ls.model(equations = equilibrium_equations,\n",
    "                 n_states=3,\n",
    "                 var_names=varNames,\n",
    "                 shock_names=shockNames,\n",
    "                 parameters=parameters)\n"
   ]
  },
  {
   "cell_type": "code",
   "execution_count": 52,
   "metadata": {},
   "outputs": [
    {
     "name": "stdout",
     "output_type": "stream",
     "text": [
      "a     1.000000\n",
      "k    14.587879\n",
      "d     0.351438\n",
      "y     1.251437\n",
      "c     0.798880\n",
      "l     0.333499\n",
      "dtype: float64\n"
     ]
    }
   ],
   "source": [
    "# Solve the steady state for the estimated variables from the variable guess using .compute_ss()\n",
    "guess = [1,20,0.5,0.5,1,0.5]\n",
    "model.compute_ss(guess)\n",
    "print(model.ss)\n"
   ]
  },
  {
   "cell_type": "code",
   "execution_count": 53,
   "metadata": {},
   "outputs": [
    {
     "name": "stdout",
     "output_type": "stream",
     "text": [
      "Log-linear equilibrium conditions:\n",
      "\n",
      "0.0374·a[t+1]-0.0243·k[t+1]-1.2518·c[t+1|t]+0.0243·l[t+1|t] = -1.2518·c[t]\n",
      "\n",
      "                             -0.3176·d[t+1]-0.9341·c[t+1|t] = -1.2518·c[t]\n",
      "\n",
      "                                                          0 = -3.0531·a[t]-1.0686·k[t]+3.0531·c[t]+2.5963·l[t]\n",
      "\n",
      "                                                          0 = -1.2514·a[t]-0.438·k[t]+1.2514·y[t]-0.8134·l[t]\n",
      "\n",
      "                               14.5879·k[t+1]+0.3514·d[t+1] = 14.2232·k[t]+0.2636·d[t]+1.2514·y[t]-0.7989·c[t]\n",
      "\n",
      "                                                    -a[t+1] = -0.75·a[t]\n"
     ]
    }
   ],
   "source": [
    "# Linear approximation of the model using the .approximate_and_solve()\n",
    "model.approximate_and_solve()\n",
    "print(model.approximated())"
   ]
  },
  {
   "cell_type": "code",
   "execution_count": 54,
   "metadata": {},
   "outputs": [
    {
     "name": "stdout",
     "output_type": "stream",
     "text": [
      "    e_a         a         k         d         y         c         l\n",
      "0  0.00  0.000000  0.000000  0.000000  0.000000  0.000000  0.000000\n",
      "1  0.00  0.000000  0.000000  0.000000  0.000000  0.000000  0.000000\n",
      "2  0.00  0.000000  0.000000  0.000000  0.000000  0.000000  0.000000\n",
      "3  0.00  0.000000  0.000000  0.000000  0.000000  0.000000  0.000000\n",
      "4  0.00  0.000000  0.000000  0.000000  0.000000  0.000000  0.000000\n",
      "5  0.01  0.010000  0.000000  0.000000  0.016465  0.001543  0.009945\n",
      "6  0.00  0.007500  0.001315  0.000550  0.012608  0.001880  0.007150\n",
      "7  0.00  0.005625  0.002241  0.001225  0.009701  0.002103  0.005064\n",
      "8  0.00  0.004219  0.002883  0.001696  0.007511  0.002241  0.003512\n",
      "9  0.00  0.003164  0.003315  0.002018  0.005858  0.002317  0.002360\n"
     ]
    }
   ],
   "source": [
    "# Finding the impulse response to the shocks. In this case, 1% shock in TFP.\n",
    "model.impulse(T=41,t0=5,shocks=[0.01,0,0])\n",
    "\n",
    "# Results of first 10 period\n",
    "print(model.irs['e_a'].head(10))"
   ]
  },
  {
   "cell_type": "code",
   "execution_count": 59,
   "metadata": {},
   "outputs": [
    {
     "data": {
      "image/png": "[encoded data removed]",
      "text/plain": [
       "<Figure size 864x576 with 6 Axes>"
      ]
     },
     "metadata": {
      "needs_background": "light"
     },
     "output_type": "display_data"
    }
   ],
   "source": [
    "# Create figure. \n",
    "\n",
    "fig = plt.figure(figsize=(12,8))\n",
    "\n",
    "# Create axis, with 3 rows and two columns\n",
    "\n",
    "ax1 = fig.add_subplot(3,2,1)\n",
    "(model.irs['e_a']['l']*100).plot(ax=ax1,lw=3,alpha=0.75,title='Labor',grid=True)\n",
    "ax1.set_ylabel('% dev from steady state')\n",
    "\n",
    "ax2 = fig.add_subplot(3,2,2)\n",
    "(model.irs['e_a']['k']*100).plot(ax=ax2,lw=3,alpha=0.75,title='Capital',grid=True)\n",
    "ax2.set_ylabel('% dev from steady state')\n",
    "\n",
    "ax3 = fig.add_subplot(3,2,3)\n",
    "(model.irs['e_a']['d']*100).plot(ax=ax3,lw=3,alpha=0.75,title='Durable Goods Consumption',grid=True)\n",
    "ax3.set_ylabel('% dev from steady state')\n",
    "\n",
    "ax4 = fig.add_subplot(3,2,4)\n",
    "(model.irs['e_a']['c']*100).plot(ax=ax4,lw=3,alpha=0.75,title='Nondurable Goods Consumption',grid=True)\n",
    "ax4.set_ylabel('% dev from steady state')\n",
    "ax5 = fig.add_subplot(3,2,5)\n",
    "(model.irs['e_a']['y']*100).plot(ax=ax5,lw=3,alpha=0.75,title='Output',grid=True)\n",
    "ax5.set_ylabel('% dev from steady state')\n",
    "\n",
    "ax6 = fig.add_subplot(3,2,6)\n",
    "(model.irs['e_a']['a']*100).plot(ax=ax6,lw=3,alpha=0.75,title='TFP',grid=True)\n",
    "\n",
    "\n",
    "fig.tight_layout()"
   ]
  },
  {
   "cell_type": "markdown",
   "metadata": {},
   "source": [
    "With 1% shock in TFP in period 5:\n",
    "- Labor increases by 1 percent and drops tremendously then slowly returns to steady state.\n",
    "- Output increases by 1.6 percent and drops tremendously then slowly returns to steady state.\n",
    "- Consumptions increaes approximately 0.25 percent and slowly returns to steady state\n",
    "- Capital increase approximately 0.35 percent and slowly returns to steady state\n"
   ]
  },
  {
   "cell_type": "code",
   "execution_count": null,
   "metadata": {},
   "outputs": [],
   "source": [
    "# TFP captures the effects of changes in technology, institution and other productivity shocks."
   ]
  }
 ],
 "metadata": {
  "kernelspec": {
   "display_name": "Python 3",
   "language": "python",
   "name": "python3"
  },
  "language_info": {
   "codemirror_mode": {
    "name": "ipython",
    "version": 3
   },
   "file_extension": ".py",
   "mimetype": "text/x-python",
   "name": "python",
   "nbconvert_exporter": "python",
   "pygments_lexer": "ipython3",
   "version": "3.7.6"
  }
 },
 "nbformat": 4,
 "nbformat_minor": 2
}
